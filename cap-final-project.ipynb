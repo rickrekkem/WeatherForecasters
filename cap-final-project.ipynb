{
 "cells": [
  {
   "cell_type": "markdown",
   "id": "5fbaac00",
   "metadata": {
    "papermill": {
     "duration": 0.015445,
     "end_time": "2023-07-20T17:43:42.226976",
     "exception": false,
     "start_time": "2023-07-20T17:43:42.211531",
     "status": "completed"
    },
    "tags": []
   },
   "source": [
    "**Intro**"
   ]
  },
  {
   "cell_type": "code",
   "execution_count": 1,
   "id": "51af26f5",
   "metadata": {
    "_execution_state": "idle",
    "_uuid": "051d70d956493feee0c6d64651c6a088724dca2a",
    "execution": {
     "iopub.execute_input": "2023-07-20T17:43:42.255940Z",
     "iopub.status.busy": "2023-07-20T17:43:42.255281Z",
     "iopub.status.idle": "2023-07-20T17:43:42.270293Z",
     "shell.execute_reply": "2023-07-20T17:43:42.269172Z"
    },
    "papermill": {
     "duration": 0.032875,
     "end_time": "2023-07-20T17:43:42.273171",
     "exception": false,
     "start_time": "2023-07-20T17:43:42.240296",
     "status": "completed"
    },
    "tags": []
   },
   "outputs": [],
   "source": [
    "import pandas as pd\n",
    "import numpy as np\n",
    "import matplotlib.pylab as plt\n",
    "%matplotlib inline\n",
    "import warnings\n",
    "\n",
    "warnings.filterwarnings('ignore')"
   ]
  },
  {
   "cell_type": "markdown",
   "id": "399d6736",
   "metadata": {
    "papermill": {
     "duration": 0.01296,
     "end_time": "2023-07-20T17:43:42.300103",
     "exception": false,
     "start_time": "2023-07-20T17:43:42.287143",
     "status": "completed"
    },
    "tags": []
   },
   "source": [
    "**Data Cleaning/ Preprocess the Data**"
   ]
  },
  {
   "cell_type": "code",
   "execution_count": 2,
   "id": "2f0e2b49",
   "metadata": {
    "execution": {
     "iopub.execute_input": "2023-07-20T17:43:42.330003Z",
     "iopub.status.busy": "2023-07-20T17:43:42.329227Z",
     "iopub.status.idle": "2023-07-20T17:43:42.904695Z",
     "shell.execute_reply": "2023-07-20T17:43:42.903898Z"
    },
    "papermill": {
     "duration": 0.593949,
     "end_time": "2023-07-20T17:43:42.907336",
     "exception": false,
     "start_time": "2023-07-20T17:43:42.313387",
     "status": "completed"
    },
    "tags": []
   },
   "outputs": [
    {
     "data": {
      "text/html": [
       "<div>\n",
       "<style scoped>\n",
       "    .dataframe tbody tr th:only-of-type {\n",
       "        vertical-align: middle;\n",
       "    }\n",
       "\n",
       "    .dataframe tbody tr th {\n",
       "        vertical-align: top;\n",
       "    }\n",
       "\n",
       "    .dataframe thead th {\n",
       "        text-align: right;\n",
       "    }\n",
       "</style>\n",
       "<table border=\"1\" class=\"dataframe\">\n",
       "  <thead>\n",
       "    <tr style=\"text-align: right;\">\n",
       "      <th></th>\n",
       "      <th>datetime</th>\n",
       "      <th>Portland</th>\n",
       "      <th>San Francisco</th>\n",
       "      <th>Seattle</th>\n",
       "      <th>Los Angeles</th>\n",
       "      <th>San Diego</th>\n",
       "      <th>Las Vegas</th>\n",
       "      <th>Phoenix</th>\n",
       "      <th>Albuquerque</th>\n",
       "      <th>Denver</th>\n",
       "      <th>...</th>\n",
       "      <th>Indianapolis</th>\n",
       "      <th>Atlanta</th>\n",
       "      <th>Detroit</th>\n",
       "      <th>Jacksonville</th>\n",
       "      <th>Charlotte</th>\n",
       "      <th>Miami</th>\n",
       "      <th>Pittsburgh</th>\n",
       "      <th>Philadelphia</th>\n",
       "      <th>New York</th>\n",
       "      <th>Boston</th>\n",
       "    </tr>\n",
       "  </thead>\n",
       "  <tbody>\n",
       "    <tr>\n",
       "      <th>0</th>\n",
       "      <td>2012-10-01 12:00:00</td>\n",
       "      <td>NaN</td>\n",
       "      <td>NaN</td>\n",
       "      <td>NaN</td>\n",
       "      <td>NaN</td>\n",
       "      <td>NaN</td>\n",
       "      <td>NaN</td>\n",
       "      <td>NaN</td>\n",
       "      <td>NaN</td>\n",
       "      <td>NaN</td>\n",
       "      <td>...</td>\n",
       "      <td>NaN</td>\n",
       "      <td>NaN</td>\n",
       "      <td>NaN</td>\n",
       "      <td>NaN</td>\n",
       "      <td>NaN</td>\n",
       "      <td>NaN</td>\n",
       "      <td>NaN</td>\n",
       "      <td>NaN</td>\n",
       "      <td>NaN</td>\n",
       "      <td>NaN</td>\n",
       "    </tr>\n",
       "    <tr>\n",
       "      <th>1</th>\n",
       "      <td>2012-10-01 13:00:00</td>\n",
       "      <td>282.080000</td>\n",
       "      <td>289.480000</td>\n",
       "      <td>281.800000</td>\n",
       "      <td>291.870000</td>\n",
       "      <td>291.530000</td>\n",
       "      <td>293.410000</td>\n",
       "      <td>296.600000</td>\n",
       "      <td>285.120000</td>\n",
       "      <td>284.610000</td>\n",
       "      <td>...</td>\n",
       "      <td>283.850000</td>\n",
       "      <td>294.030000</td>\n",
       "      <td>284.030000</td>\n",
       "      <td>298.17000</td>\n",
       "      <td>288.650000</td>\n",
       "      <td>299.720000</td>\n",
       "      <td>281.000000</td>\n",
       "      <td>285.630000</td>\n",
       "      <td>288.220000</td>\n",
       "      <td>287.170000</td>\n",
       "    </tr>\n",
       "    <tr>\n",
       "      <th>2</th>\n",
       "      <td>2012-10-01 14:00:00</td>\n",
       "      <td>282.083252</td>\n",
       "      <td>289.474993</td>\n",
       "      <td>281.797217</td>\n",
       "      <td>291.868186</td>\n",
       "      <td>291.533501</td>\n",
       "      <td>293.403141</td>\n",
       "      <td>296.608509</td>\n",
       "      <td>285.154558</td>\n",
       "      <td>284.607306</td>\n",
       "      <td>...</td>\n",
       "      <td>283.889394</td>\n",
       "      <td>294.035341</td>\n",
       "      <td>284.069789</td>\n",
       "      <td>298.20523</td>\n",
       "      <td>288.650172</td>\n",
       "      <td>299.732518</td>\n",
       "      <td>281.024767</td>\n",
       "      <td>285.663208</td>\n",
       "      <td>288.247676</td>\n",
       "      <td>287.186092</td>\n",
       "    </tr>\n",
       "  </tbody>\n",
       "</table>\n",
       "<p>3 rows × 28 columns</p>\n",
       "</div>"
      ],
      "text/plain": [
       "              datetime    Portland  San Francisco     Seattle  Los Angeles  \\\n",
       "0  2012-10-01 12:00:00         NaN            NaN         NaN          NaN   \n",
       "1  2012-10-01 13:00:00  282.080000     289.480000  281.800000   291.870000   \n",
       "2  2012-10-01 14:00:00  282.083252     289.474993  281.797217   291.868186   \n",
       "\n",
       "    San Diego   Las Vegas     Phoenix  Albuquerque      Denver  ...  \\\n",
       "0         NaN         NaN         NaN          NaN         NaN  ...   \n",
       "1  291.530000  293.410000  296.600000   285.120000  284.610000  ...   \n",
       "2  291.533501  293.403141  296.608509   285.154558  284.607306  ...   \n",
       "\n",
       "   Indianapolis     Atlanta     Detroit  Jacksonville   Charlotte       Miami  \\\n",
       "0           NaN         NaN         NaN           NaN         NaN         NaN   \n",
       "1    283.850000  294.030000  284.030000     298.17000  288.650000  299.720000   \n",
       "2    283.889394  294.035341  284.069789     298.20523  288.650172  299.732518   \n",
       "\n",
       "   Pittsburgh  Philadelphia    New York      Boston  \n",
       "0         NaN           NaN         NaN         NaN  \n",
       "1  281.000000    285.630000  288.220000  287.170000  \n",
       "2  281.024767    285.663208  288.247676  287.186092  \n",
       "\n",
       "[3 rows x 28 columns]"
      ]
     },
     "execution_count": 2,
     "metadata": {},
     "output_type": "execute_result"
    }
   ],
   "source": [
    "#Read data and remove non-US cities\n",
    "df = pd.read_csv(\"/kaggle/input/historical-hourly-weather-data/temperature.csv\", delimiter = \",\")\n",
    "df = df.drop('Vancouver', axis=1)\n",
    "df = df.drop('Toronto', axis=1)\n",
    "df = df.drop('Beersheba', axis=1)\n",
    "df = df.drop('Montreal', axis=1)\n",
    "df = df.drop('Tel Aviv District', axis=1)\n",
    "df = df.drop('Eilat', axis=1)\n",
    "df = df.drop('Haifa', axis=1)\n",
    "df = df.drop('Nahariyya', axis=1)\n",
    "df = df.drop('Jerusalem', axis=1)\n",
    "\n",
    "df.head(3)"
   ]
  },
  {
   "cell_type": "code",
   "execution_count": 3,
   "id": "0be0e3b5",
   "metadata": {
    "execution": {
     "iopub.execute_input": "2023-07-20T17:43:42.936772Z",
     "iopub.status.busy": "2023-07-20T17:43:42.935734Z",
     "iopub.status.idle": "2023-07-20T17:43:43.089256Z",
     "shell.execute_reply": "2023-07-20T17:43:43.087780Z"
    },
    "papermill": {
     "duration": 0.170815,
     "end_time": "2023-07-20T17:43:43.091744",
     "exception": false,
     "start_time": "2023-07-20T17:43:42.920929",
     "status": "completed"
    },
    "tags": []
   },
   "outputs": [
    {
     "data": {
      "text/html": [
       "<div>\n",
       "<style scoped>\n",
       "    .dataframe tbody tr th:only-of-type {\n",
       "        vertical-align: middle;\n",
       "    }\n",
       "\n",
       "    .dataframe tbody tr th {\n",
       "        vertical-align: top;\n",
       "    }\n",
       "\n",
       "    .dataframe thead th {\n",
       "        text-align: right;\n",
       "    }\n",
       "</style>\n",
       "<table border=\"1\" class=\"dataframe\">\n",
       "  <thead>\n",
       "    <tr style=\"text-align: right;\">\n",
       "      <th></th>\n",
       "      <th>Portland</th>\n",
       "      <th>San Francisco</th>\n",
       "      <th>Seattle</th>\n",
       "      <th>Los Angeles</th>\n",
       "      <th>San Diego</th>\n",
       "      <th>Las Vegas</th>\n",
       "      <th>Phoenix</th>\n",
       "      <th>Albuquerque</th>\n",
       "      <th>Denver</th>\n",
       "      <th>San Antonio</th>\n",
       "      <th>...</th>\n",
       "      <th>Indianapolis</th>\n",
       "      <th>Atlanta</th>\n",
       "      <th>Detroit</th>\n",
       "      <th>Jacksonville</th>\n",
       "      <th>Charlotte</th>\n",
       "      <th>Miami</th>\n",
       "      <th>Pittsburgh</th>\n",
       "      <th>Philadelphia</th>\n",
       "      <th>New York</th>\n",
       "      <th>Boston</th>\n",
       "    </tr>\n",
       "  </thead>\n",
       "  <tbody>\n",
       "    <tr>\n",
       "      <th>count</th>\n",
       "      <td>45252.000000</td>\n",
       "      <td>44460.000000</td>\n",
       "      <td>45250.000000</td>\n",
       "      <td>45250.000000</td>\n",
       "      <td>45252.000000</td>\n",
       "      <td>45252.000000</td>\n",
       "      <td>45250.000000</td>\n",
       "      <td>45252.000000</td>\n",
       "      <td>45252.000000</td>\n",
       "      <td>45252.000000</td>\n",
       "      <td>...</td>\n",
       "      <td>45246.000000</td>\n",
       "      <td>45247.000000</td>\n",
       "      <td>45252.000000</td>\n",
       "      <td>45252.000000</td>\n",
       "      <td>45250.000000</td>\n",
       "      <td>44448.000000</td>\n",
       "      <td>45250.000000</td>\n",
       "      <td>45250.000000</td>\n",
       "      <td>44460.000000</td>\n",
       "      <td>45250.000000</td>\n",
       "    </tr>\n",
       "    <tr>\n",
       "      <th>mean</th>\n",
       "      <td>284.992929</td>\n",
       "      <td>288.155821</td>\n",
       "      <td>284.409626</td>\n",
       "      <td>290.846116</td>\n",
       "      <td>290.215044</td>\n",
       "      <td>292.424887</td>\n",
       "      <td>295.493358</td>\n",
       "      <td>285.617856</td>\n",
       "      <td>282.839407</td>\n",
       "      <td>293.785646</td>\n",
       "      <td>...</td>\n",
       "      <td>284.771904</td>\n",
       "      <td>289.772673</td>\n",
       "      <td>282.971668</td>\n",
       "      <td>294.333380</td>\n",
       "      <td>288.897483</td>\n",
       "      <td>298.181274</td>\n",
       "      <td>284.053939</td>\n",
       "      <td>285.374168</td>\n",
       "      <td>285.400406</td>\n",
       "      <td>283.779823</td>\n",
       "    </tr>\n",
       "    <tr>\n",
       "      <th>std</th>\n",
       "      <td>7.452438</td>\n",
       "      <td>5.332862</td>\n",
       "      <td>6.547986</td>\n",
       "      <td>6.460823</td>\n",
       "      <td>5.889992</td>\n",
       "      <td>10.829522</td>\n",
       "      <td>9.916743</td>\n",
       "      <td>9.853484</td>\n",
       "      <td>10.673464</td>\n",
       "      <td>8.303688</td>\n",
       "      <td>...</td>\n",
       "      <td>11.043634</td>\n",
       "      <td>8.703643</td>\n",
       "      <td>11.034481</td>\n",
       "      <td>6.682162</td>\n",
       "      <td>9.133072</td>\n",
       "      <td>4.190185</td>\n",
       "      <td>10.453927</td>\n",
       "      <td>10.242377</td>\n",
       "      <td>10.220932</td>\n",
       "      <td>9.802499</td>\n",
       "    </tr>\n",
       "    <tr>\n",
       "      <th>min</th>\n",
       "      <td>262.370000</td>\n",
       "      <td>272.300000</td>\n",
       "      <td>263.780000</td>\n",
       "      <td>266.503667</td>\n",
       "      <td>265.783333</td>\n",
       "      <td>260.561333</td>\n",
       "      <td>266.059000</td>\n",
       "      <td>255.042333</td>\n",
       "      <td>247.727667</td>\n",
       "      <td>265.050000</td>\n",
       "      <td>...</td>\n",
       "      <td>244.866333</td>\n",
       "      <td>259.500000</td>\n",
       "      <td>243.483333</td>\n",
       "      <td>268.610000</td>\n",
       "      <td>255.658333</td>\n",
       "      <td>275.233333</td>\n",
       "      <td>249.422667</td>\n",
       "      <td>250.390000</td>\n",
       "      <td>250.774000</td>\n",
       "      <td>249.540000</td>\n",
       "    </tr>\n",
       "    <tr>\n",
       "      <th>25%</th>\n",
       "      <td>279.850000</td>\n",
       "      <td>284.670000</td>\n",
       "      <td>279.830000</td>\n",
       "      <td>286.380000</td>\n",
       "      <td>286.254750</td>\n",
       "      <td>283.920000</td>\n",
       "      <td>287.680000</td>\n",
       "      <td>277.970000</td>\n",
       "      <td>275.060000</td>\n",
       "      <td>288.600000</td>\n",
       "      <td>...</td>\n",
       "      <td>276.110000</td>\n",
       "      <td>283.320417</td>\n",
       "      <td>274.690000</td>\n",
       "      <td>290.040875</td>\n",
       "      <td>282.010000</td>\n",
       "      <td>296.030000</td>\n",
       "      <td>275.857427</td>\n",
       "      <td>277.350636</td>\n",
       "      <td>277.370000</td>\n",
       "      <td>276.090000</td>\n",
       "    </tr>\n",
       "    <tr>\n",
       "      <th>50%</th>\n",
       "      <td>284.320000</td>\n",
       "      <td>287.610000</td>\n",
       "      <td>283.940000</td>\n",
       "      <td>290.530000</td>\n",
       "      <td>290.118750</td>\n",
       "      <td>292.027486</td>\n",
       "      <td>295.586667</td>\n",
       "      <td>286.120000</td>\n",
       "      <td>282.970667</td>\n",
       "      <td>295.184250</td>\n",
       "      <td>...</td>\n",
       "      <td>285.929333</td>\n",
       "      <td>291.050000</td>\n",
       "      <td>283.540000</td>\n",
       "      <td>295.640000</td>\n",
       "      <td>290.120000</td>\n",
       "      <td>298.880000</td>\n",
       "      <td>285.220000</td>\n",
       "      <td>285.927583</td>\n",
       "      <td>285.870000</td>\n",
       "      <td>284.133250</td>\n",
       "    </tr>\n",
       "    <tr>\n",
       "      <th>75%</th>\n",
       "      <td>289.451750</td>\n",
       "      <td>291.015167</td>\n",
       "      <td>288.530000</td>\n",
       "      <td>295.080000</td>\n",
       "      <td>294.107542</td>\n",
       "      <td>300.835000</td>\n",
       "      <td>303.050000</td>\n",
       "      <td>292.835643</td>\n",
       "      <td>290.680000</td>\n",
       "      <td>299.490000</td>\n",
       "      <td>...</td>\n",
       "      <td>293.960000</td>\n",
       "      <td>296.290000</td>\n",
       "      <td>292.231250</td>\n",
       "      <td>299.140000</td>\n",
       "      <td>295.770000</td>\n",
       "      <td>300.992375</td>\n",
       "      <td>292.580000</td>\n",
       "      <td>293.796000</td>\n",
       "      <td>293.760000</td>\n",
       "      <td>291.620000</td>\n",
       "    </tr>\n",
       "    <tr>\n",
       "      <th>max</th>\n",
       "      <td>312.520000</td>\n",
       "      <td>313.620000</td>\n",
       "      <td>307.300000</td>\n",
       "      <td>315.470000</td>\n",
       "      <td>313.360000</td>\n",
       "      <td>318.640000</td>\n",
       "      <td>321.220000</td>\n",
       "      <td>312.710000</td>\n",
       "      <td>313.750000</td>\n",
       "      <td>313.660000</td>\n",
       "      <td>...</td>\n",
       "      <td>312.040000</td>\n",
       "      <td>310.760000</td>\n",
       "      <td>308.050000</td>\n",
       "      <td>310.150000</td>\n",
       "      <td>310.900000</td>\n",
       "      <td>308.680000</td>\n",
       "      <td>306.290000</td>\n",
       "      <td>308.000000</td>\n",
       "      <td>310.240000</td>\n",
       "      <td>308.000000</td>\n",
       "    </tr>\n",
       "  </tbody>\n",
       "</table>\n",
       "<p>8 rows × 27 columns</p>\n",
       "</div>"
      ],
      "text/plain": [
       "           Portland  San Francisco       Seattle   Los Angeles     San Diego  \\\n",
       "count  45252.000000   44460.000000  45250.000000  45250.000000  45252.000000   \n",
       "mean     284.992929     288.155821    284.409626    290.846116    290.215044   \n",
       "std        7.452438       5.332862      6.547986      6.460823      5.889992   \n",
       "min      262.370000     272.300000    263.780000    266.503667    265.783333   \n",
       "25%      279.850000     284.670000    279.830000    286.380000    286.254750   \n",
       "50%      284.320000     287.610000    283.940000    290.530000    290.118750   \n",
       "75%      289.451750     291.015167    288.530000    295.080000    294.107542   \n",
       "max      312.520000     313.620000    307.300000    315.470000    313.360000   \n",
       "\n",
       "          Las Vegas       Phoenix   Albuquerque        Denver   San Antonio  \\\n",
       "count  45252.000000  45250.000000  45252.000000  45252.000000  45252.000000   \n",
       "mean     292.424887    295.493358    285.617856    282.839407    293.785646   \n",
       "std       10.829522      9.916743      9.853484     10.673464      8.303688   \n",
       "min      260.561333    266.059000    255.042333    247.727667    265.050000   \n",
       "25%      283.920000    287.680000    277.970000    275.060000    288.600000   \n",
       "50%      292.027486    295.586667    286.120000    282.970667    295.184250   \n",
       "75%      300.835000    303.050000    292.835643    290.680000    299.490000   \n",
       "max      318.640000    321.220000    312.710000    313.750000    313.660000   \n",
       "\n",
       "       ...  Indianapolis       Atlanta       Detroit  Jacksonville  \\\n",
       "count  ...  45246.000000  45247.000000  45252.000000  45252.000000   \n",
       "mean   ...    284.771904    289.772673    282.971668    294.333380   \n",
       "std    ...     11.043634      8.703643     11.034481      6.682162   \n",
       "min    ...    244.866333    259.500000    243.483333    268.610000   \n",
       "25%    ...    276.110000    283.320417    274.690000    290.040875   \n",
       "50%    ...    285.929333    291.050000    283.540000    295.640000   \n",
       "75%    ...    293.960000    296.290000    292.231250    299.140000   \n",
       "max    ...    312.040000    310.760000    308.050000    310.150000   \n",
       "\n",
       "          Charlotte         Miami    Pittsburgh  Philadelphia      New York  \\\n",
       "count  45250.000000  44448.000000  45250.000000  45250.000000  44460.000000   \n",
       "mean     288.897483    298.181274    284.053939    285.374168    285.400406   \n",
       "std        9.133072      4.190185     10.453927     10.242377     10.220932   \n",
       "min      255.658333    275.233333    249.422667    250.390000    250.774000   \n",
       "25%      282.010000    296.030000    275.857427    277.350636    277.370000   \n",
       "50%      290.120000    298.880000    285.220000    285.927583    285.870000   \n",
       "75%      295.770000    300.992375    292.580000    293.796000    293.760000   \n",
       "max      310.900000    308.680000    306.290000    308.000000    310.240000   \n",
       "\n",
       "             Boston  \n",
       "count  45250.000000  \n",
       "mean     283.779823  \n",
       "std        9.802499  \n",
       "min      249.540000  \n",
       "25%      276.090000  \n",
       "50%      284.133250  \n",
       "75%      291.620000  \n",
       "max      308.000000  \n",
       "\n",
       "[8 rows x 27 columns]"
      ]
     },
     "execution_count": 3,
     "metadata": {},
     "output_type": "execute_result"
    }
   ],
   "source": [
    "df.describe()"
   ]
  },
  {
   "cell_type": "code",
   "execution_count": 4,
   "id": "d18cf9d5",
   "metadata": {
    "execution": {
     "iopub.execute_input": "2023-07-20T17:43:43.122381Z",
     "iopub.status.busy": "2023-07-20T17:43:43.121846Z",
     "iopub.status.idle": "2023-07-20T17:43:43.152573Z",
     "shell.execute_reply": "2023-07-20T17:43:43.151332Z"
    },
    "papermill": {
     "duration": 0.048652,
     "end_time": "2023-07-20T17:43:43.154894",
     "exception": false,
     "start_time": "2023-07-20T17:43:43.106242",
     "status": "completed"
    },
    "tags": []
   },
   "outputs": [
    {
     "data": {
      "text/html": [
       "<div>\n",
       "<style scoped>\n",
       "    .dataframe tbody tr th:only-of-type {\n",
       "        vertical-align: middle;\n",
       "    }\n",
       "\n",
       "    .dataframe tbody tr th {\n",
       "        vertical-align: top;\n",
       "    }\n",
       "\n",
       "    .dataframe thead th {\n",
       "        text-align: right;\n",
       "    }\n",
       "</style>\n",
       "<table border=\"1\" class=\"dataframe\">\n",
       "  <thead>\n",
       "    <tr style=\"text-align: right;\">\n",
       "      <th></th>\n",
       "      <th>datetime</th>\n",
       "      <th>USAvgTemp</th>\n",
       "    </tr>\n",
       "  </thead>\n",
       "  <tbody>\n",
       "    <tr>\n",
       "      <th>0</th>\n",
       "      <td>2012-10-01 12:00:00</td>\n",
       "      <td>NaN</td>\n",
       "    </tr>\n",
       "    <tr>\n",
       "      <th>1</th>\n",
       "      <td>2012-10-01 13:00:00</td>\n",
       "      <td>288.471111</td>\n",
       "    </tr>\n",
       "    <tr>\n",
       "      <th>2</th>\n",
       "      <td>2012-10-01 14:00:00</td>\n",
       "      <td>288.487097</td>\n",
       "    </tr>\n",
       "  </tbody>\n",
       "</table>\n",
       "</div>"
      ],
      "text/plain": [
       "              datetime   USAvgTemp\n",
       "0  2012-10-01 12:00:00         NaN\n",
       "1  2012-10-01 13:00:00  288.471111\n",
       "2  2012-10-01 14:00:00  288.487097"
      ]
     },
     "execution_count": 4,
     "metadata": {},
     "output_type": "execute_result"
    }
   ],
   "source": [
    "#Take all hourly US city temperatures and condense into a single hourly US average temperature column\n",
    "df['USAvgTemp'] = df[['Portland', 'San Francisco', 'Seattle', 'Los Angeles', 'San Diego', 'Las Vegas', 'Phoenix', 'Albuquerque', 'Denver', 'San Antonio', 'Dallas', 'Houston', 'Kansas City', 'Minneapolis', 'Saint Louis', 'Chicago', 'Nashville', 'Indianapolis', 'Atlanta', 'Detroit', 'Jacksonville', 'Charlotte', 'Miami', 'Pittsburgh', 'Philadelphia', 'New York', 'Boston']].mean(axis=1)\n",
    "df = df.loc[:,[ 'datetime','USAvgTemp']]\n",
    "df.head(3)"
   ]
  },
  {
   "cell_type": "code",
   "execution_count": 5,
   "id": "8207cbba",
   "metadata": {
    "execution": {
     "iopub.execute_input": "2023-07-20T17:43:43.185296Z",
     "iopub.status.busy": "2023-07-20T17:43:43.184871Z",
     "iopub.status.idle": "2023-07-20T17:43:43.245314Z",
     "shell.execute_reply": "2023-07-20T17:43:43.244351Z"
    },
    "papermill": {
     "duration": 0.078401,
     "end_time": "2023-07-20T17:43:43.247530",
     "exception": false,
     "start_time": "2023-07-20T17:43:43.169129",
     "status": "completed"
    },
    "tags": []
   },
   "outputs": [
    {
     "data": {
      "text/html": [
       "<div>\n",
       "<style scoped>\n",
       "    .dataframe tbody tr th:only-of-type {\n",
       "        vertical-align: middle;\n",
       "    }\n",
       "\n",
       "    .dataframe tbody tr th {\n",
       "        vertical-align: top;\n",
       "    }\n",
       "\n",
       "    .dataframe thead th {\n",
       "        text-align: right;\n",
       "    }\n",
       "</style>\n",
       "<table border=\"1\" class=\"dataframe\">\n",
       "  <thead>\n",
       "    <tr style=\"text-align: right;\">\n",
       "      <th></th>\n",
       "      <th>USAvgTemp</th>\n",
       "    </tr>\n",
       "    <tr>\n",
       "      <th>DATE</th>\n",
       "      <th></th>\n",
       "    </tr>\n",
       "  </thead>\n",
       "  <tbody>\n",
       "    <tr>\n",
       "      <th>2012-10-01</th>\n",
       "      <td>288.646997</td>\n",
       "    </tr>\n",
       "    <tr>\n",
       "      <th>2012-10-02</th>\n",
       "      <td>291.376971</td>\n",
       "    </tr>\n",
       "    <tr>\n",
       "      <th>2012-10-03</th>\n",
       "      <td>292.790571</td>\n",
       "    </tr>\n",
       "  </tbody>\n",
       "</table>\n",
       "</div>"
      ],
      "text/plain": [
       "             USAvgTemp\n",
       "DATE                  \n",
       "2012-10-01  288.646997\n",
       "2012-10-02  291.376971\n",
       "2012-10-03  292.790571"
      ]
     },
     "execution_count": 5,
     "metadata": {},
     "output_type": "execute_result"
    }
   ],
   "source": [
    "#Convert from hourly measurements to daily averages\n",
    "df['DATE'] = pd.to_datetime(df['datetime'], format='%Y-%m-%d')\n",
    "davg_df = df.groupby(pd.Grouper(freq='D', key='DATE')).mean()\n",
    "\n",
    "# monthly\n",
    "#davg_df2 = df.groupby(pd.Grouper(freq='M', key='DATE')).mean()\n",
    "\n",
    "davg_df.head(3)"
   ]
  },
  {
   "cell_type": "code",
   "execution_count": 6,
   "id": "e8775954",
   "metadata": {
    "execution": {
     "iopub.execute_input": "2023-07-20T17:43:43.278489Z",
     "iopub.status.busy": "2023-07-20T17:43:43.278053Z",
     "iopub.status.idle": "2023-07-20T17:43:43.292134Z",
     "shell.execute_reply": "2023-07-20T17:43:43.291093Z"
    },
    "papermill": {
     "duration": 0.032541,
     "end_time": "2023-07-20T17:43:43.294485",
     "exception": false,
     "start_time": "2023-07-20T17:43:43.261944",
     "status": "completed"
    },
    "tags": []
   },
   "outputs": [
    {
     "data": {
      "text/html": [
       "<div>\n",
       "<style scoped>\n",
       "    .dataframe tbody tr th:only-of-type {\n",
       "        vertical-align: middle;\n",
       "    }\n",
       "\n",
       "    .dataframe tbody tr th {\n",
       "        vertical-align: top;\n",
       "    }\n",
       "\n",
       "    .dataframe thead th {\n",
       "        text-align: right;\n",
       "    }\n",
       "</style>\n",
       "<table border=\"1\" class=\"dataframe\">\n",
       "  <thead>\n",
       "    <tr style=\"text-align: right;\">\n",
       "      <th></th>\n",
       "      <th>USAvgTemp</th>\n",
       "    </tr>\n",
       "    <tr>\n",
       "      <th>DATE</th>\n",
       "      <th></th>\n",
       "    </tr>\n",
       "  </thead>\n",
       "  <tbody>\n",
       "    <tr>\n",
       "      <th>2012-10-01</th>\n",
       "      <td>NaN</td>\n",
       "    </tr>\n",
       "    <tr>\n",
       "      <th>2012-10-02</th>\n",
       "      <td>NaN</td>\n",
       "    </tr>\n",
       "    <tr>\n",
       "      <th>2012-10-03</th>\n",
       "      <td>NaN</td>\n",
       "    </tr>\n",
       "    <tr>\n",
       "      <th>2012-10-04</th>\n",
       "      <td>NaN</td>\n",
       "    </tr>\n",
       "    <tr>\n",
       "      <th>2012-10-05</th>\n",
       "      <td>NaN</td>\n",
       "    </tr>\n",
       "    <tr>\n",
       "      <th>...</th>\n",
       "      <td>...</td>\n",
       "    </tr>\n",
       "    <tr>\n",
       "      <th>2017-11-26</th>\n",
       "      <td>NaN</td>\n",
       "    </tr>\n",
       "    <tr>\n",
       "      <th>2017-11-27</th>\n",
       "      <td>NaN</td>\n",
       "    </tr>\n",
       "    <tr>\n",
       "      <th>2017-11-28</th>\n",
       "      <td>NaN</td>\n",
       "    </tr>\n",
       "    <tr>\n",
       "      <th>2017-11-29</th>\n",
       "      <td>NaN</td>\n",
       "    </tr>\n",
       "    <tr>\n",
       "      <th>2017-11-30</th>\n",
       "      <td>NaN</td>\n",
       "    </tr>\n",
       "  </tbody>\n",
       "</table>\n",
       "<p>1887 rows × 1 columns</p>\n",
       "</div>"
      ],
      "text/plain": [
       "            USAvgTemp\n",
       "DATE                 \n",
       "2012-10-01        NaN\n",
       "2012-10-02        NaN\n",
       "2012-10-03        NaN\n",
       "2012-10-04        NaN\n",
       "2012-10-05        NaN\n",
       "...               ...\n",
       "2017-11-26        NaN\n",
       "2017-11-27        NaN\n",
       "2017-11-28        NaN\n",
       "2017-11-29        NaN\n",
       "2017-11-30        NaN\n",
       "\n",
       "[1887 rows x 1 columns]"
      ]
     },
     "execution_count": 6,
     "metadata": {},
     "output_type": "execute_result"
    }
   ],
   "source": [
    "#Remove nulls\n",
    "davg_df[davg_df.isnull()]\n",
    "\n",
    "#monthly\n",
    "#davg_df2[davg_df2.isnull()]"
   ]
  },
  {
   "cell_type": "code",
   "execution_count": 7,
   "id": "48bdff25",
   "metadata": {
    "execution": {
     "iopub.execute_input": "2023-07-20T17:43:43.326584Z",
     "iopub.status.busy": "2023-07-20T17:43:43.325936Z",
     "iopub.status.idle": "2023-07-20T17:43:43.333210Z",
     "shell.execute_reply": "2023-07-20T17:43:43.332425Z"
    },
    "papermill": {
     "duration": 0.026013,
     "end_time": "2023-07-20T17:43:43.335559",
     "exception": false,
     "start_time": "2023-07-20T17:43:43.309546",
     "status": "completed"
    },
    "tags": []
   },
   "outputs": [],
   "source": [
    "davg_df['Points'] = range(0,len(davg_df.index.values))\n",
    "\n",
    "#monthly\n",
    "#davg_df2['Points'] = range(0,len(davg_df2.index.values))"
   ]
  },
  {
   "cell_type": "code",
   "execution_count": 8,
   "id": "5eba6b12",
   "metadata": {
    "execution": {
     "iopub.execute_input": "2023-07-20T17:43:43.367981Z",
     "iopub.status.busy": "2023-07-20T17:43:43.367295Z",
     "iopub.status.idle": "2023-07-20T17:43:43.373848Z",
     "shell.execute_reply": "2023-07-20T17:43:43.372767Z"
    },
    "papermill": {
     "duration": 0.026239,
     "end_time": "2023-07-20T17:43:43.376557",
     "exception": false,
     "start_time": "2023-07-20T17:43:43.350318",
     "status": "completed"
    },
    "tags": []
   },
   "outputs": [],
   "source": [
    "#Convert from kelvin to Fahrenheit\n",
    "davg_df['USAvgTemp'] = (davg_df['USAvgTemp'] - 273.15) * 9/5 + 32\n",
    "\n",
    "#monthly\n",
    "#davg_df2['USAvgTemp'] = (davg_df2['USAvgTemp'] - 273.15) * 9/5 + 32"
   ]
  },
  {
   "cell_type": "code",
   "execution_count": 9,
   "id": "31908a70",
   "metadata": {
    "execution": {
     "iopub.execute_input": "2023-07-20T17:43:43.408720Z",
     "iopub.status.busy": "2023-07-20T17:43:43.408307Z",
     "iopub.status.idle": "2023-07-20T17:43:43.784295Z",
     "shell.execute_reply": "2023-07-20T17:43:43.783151Z"
    },
    "papermill": {
     "duration": 0.39545,
     "end_time": "2023-07-20T17:43:43.787009",
     "exception": false,
     "start_time": "2023-07-20T17:43:43.391559",
     "status": "completed"
    },
    "tags": []
   },
   "outputs": [
    {
     "data": {
      "image/png": "[encoded data removed]",
      "text/plain": [
       "<Figure size 640x480 with 1 Axes>"
      ]
     },
     "metadata": {},
     "output_type": "display_data"
    }
   ],
   "source": [
    "#Plot the original figure with US average temperatures in Fahrenheit over number of data points\n",
    "fig = plt.figure(1)\n",
    "ax1 = fig.add_subplot(111)\n",
    "ax1.set_xlabel('Points')\n",
    "ax1.set_ylabel('Avg. Temp.')\n",
    "ax1.set_title('Original Plot')\n",
    "ax1.plot('Points', 'USAvgTemp', data = davg_df);"
   ]
  },
  {
   "cell_type": "markdown",
   "id": "3188713c",
   "metadata": {
    "papermill": {
     "duration": 0.015029,
     "end_time": "2023-07-20T17:43:43.820133",
     "exception": false,
     "start_time": "2023-07-20T17:43:43.805104",
     "status": "completed"
    },
    "tags": []
   },
   "source": [
    "**adfuller import** to perform Augmented Dickey-Fuller Test to determine if time series data is **stationary**\n"
   ]
  },
  {
   "cell_type": "code",
   "execution_count": 10,
   "id": "43cb7d7e",
   "metadata": {
    "execution": {
     "iopub.execute_input": "2023-07-20T17:43:43.855549Z",
     "iopub.status.busy": "2023-07-20T17:43:43.854867Z",
     "iopub.status.idle": "2023-07-20T17:43:45.472185Z",
     "shell.execute_reply": "2023-07-20T17:43:45.470810Z"
    },
    "papermill": {
     "duration": 1.638859,
     "end_time": "2023-07-20T17:43:45.474894",
     "exception": false,
     "start_time": "2023-07-20T17:43:43.836035",
     "status": "completed"
    },
    "tags": []
   },
   "outputs": [],
   "source": [
    "from statsmodels.tsa.stattools import adfuller\n",
    "\n",
    "def stationary_ts_check(ts):\n",
    "    #Compute moving average\n",
    "    mov_avg = ts.rolling(window=325).mean()\n",
    "    \n",
    "    #plot original and moving average/rolling mean\n",
    "    plt.figure(figsize=(10, 6))\n",
    "    plt.plot(ts, color='orange', label='Original data')\n",
    "    plt.plot(mov_avg, color='blue', label='Moving Average')\n",
    "    plt.xlabel('Time')\n",
    "    plt.ylabel('Average Temperature (F)')\n",
    "    plt.title('Original Time Series and Moving Average')\n",
    "    plt.legend()\n",
    "    plt.show()\n",
    "    \n",
    "    #Augmented Dickey-Fuller test\n",
    "    print('Augmented Dickey-Fuller test:')\n",
    "    adf_output = adfuller(ts)\n",
    "    df_result = pd.Series(adf_output[0:4], index=['Test Statistic', 'p-value', '#Lags Used', 'Number of Observations Used'])\n",
    "    for key, value in adf_output[4].items():\n",
    "        df_result['Critical Value (%s)' % key] = value\n",
    "    print(df_result)\n"
   ]
  },
  {
   "cell_type": "code",
   "execution_count": 11,
   "id": "ffe93546",
   "metadata": {
    "execution": {
     "iopub.execute_input": "2023-07-20T17:43:45.509864Z",
     "iopub.status.busy": "2023-07-20T17:43:45.509443Z",
     "iopub.status.idle": "2023-07-20T17:43:46.080768Z",
     "shell.execute_reply": "2023-07-20T17:43:46.079235Z"
    },
    "papermill": {
     "duration": 0.593955,
     "end_time": "2023-07-20T17:43:46.085643",
     "exception": false,
     "start_time": "2023-07-20T17:43:45.491688",
     "status": "completed"
    },
    "tags": []
   },
   "outputs": [
    {
     "data": {
      "image/png": "[encoded data removed]",
      "text/plain": [
       "<Figure size 1000x600 with 1 Axes>"
      ]
     },
     "metadata": {},
     "output_type": "display_data"
    },
    {
     "name": "stdout",
     "output_type": "stream",
     "text": [
      "Augmented Dickey-Fuller test:\n",
      "Test Statistic                   -2.438240\n",
      "p-value                           0.131233\n",
      "#Lags Used                       22.000000\n",
      "Number of Observations Used    1864.000000\n",
      "Critical Value (1%)              -3.433863\n",
      "Critical Value (5%)              -2.863092\n",
      "Critical Value (10%)             -2.567596\n",
      "dtype: float64\n"
     ]
    }
   ],
   "source": [
    "stationary_ts_check(davg_df.USAvgTemp)"
   ]
  },
  {
   "cell_type": "markdown",
   "id": "c96abbb1",
   "metadata": {
    "papermill": {
     "duration": 0.038228,
     "end_time": "2023-07-20T17:43:46.160098",
     "exception": false,
     "start_time": "2023-07-20T17:43:46.121870",
     "status": "completed"
    },
    "tags": []
   },
   "source": [
    "**Original Data** - unmodified time series dataset\n",
    "\n",
    "**Rolling Mean** - Moving Average window calculated per 325 data points\n",
    "\n",
    "**Visual check**- rolling mean appears to have no significant trends/patterns - likely stationary\n",
    "\n",
    "**Augmented Dickey-Fuller test-** null hypothesis is rejected if p-value <5% - p value is 0.02, much smaller than 5% - null hypothesis rejected"
   ]
  },
  {
   "cell_type": "code",
   "execution_count": 12,
   "id": "f668ee45",
   "metadata": {
    "execution": {
     "iopub.execute_input": "2023-07-20T17:43:46.212931Z",
     "iopub.status.busy": "2023-07-20T17:43:46.212495Z",
     "iopub.status.idle": "2023-07-20T17:43:46.222398Z",
     "shell.execute_reply": "2023-07-20T17:43:46.221396Z"
    },
    "papermill": {
     "duration": 0.030796,
     "end_time": "2023-07-20T17:43:46.224518",
     "exception": false,
     "start_time": "2023-07-20T17:43:46.193722",
     "status": "completed"
    },
    "tags": []
   },
   "outputs": [
    {
     "data": {
      "text/plain": [
       "DATE\n",
       "2012-10-01          NaN\n",
       "2012-10-02          NaN\n",
       "2012-10-03          NaN\n",
       "2012-10-04          NaN\n",
       "2012-10-05          NaN\n",
       "                ...    \n",
       "2017-11-26    62.396970\n",
       "2017-11-27    62.460140\n",
       "2017-11-28    62.535494\n",
       "2017-11-29    62.604968\n",
       "2017-11-30    62.661905\n",
       "Freq: D, Name: USAvgTemp, Length: 1887, dtype: float64"
      ]
     },
     "execution_count": 12,
     "metadata": {},
     "output_type": "execute_result"
    }
   ],
   "source": [
    "davg_df.USAvgTemp.rolling(center=False,window=325).mean()"
   ]
  },
  {
   "cell_type": "code",
   "execution_count": 13,
   "id": "6cef1e03",
   "metadata": {
    "execution": {
     "iopub.execute_input": "2023-07-20T17:43:46.260741Z",
     "iopub.status.busy": "2023-07-20T17:43:46.260043Z",
     "iopub.status.idle": "2023-07-20T17:43:46.524005Z",
     "shell.execute_reply": "2023-07-20T17:43:46.522690Z"
    },
    "papermill": {
     "duration": 0.285124,
     "end_time": "2023-07-20T17:43:46.526851",
     "exception": false,
     "start_time": "2023-07-20T17:43:46.241727",
     "status": "completed"
    },
    "tags": []
   },
   "outputs": [],
   "source": [
    "from statsmodels.tsa.arima.model import ARIMA"
   ]
  },
  {
   "cell_type": "code",
   "execution_count": 14,
   "id": "eee33d16",
   "metadata": {
    "execution": {
     "iopub.execute_input": "2023-07-20T17:43:46.563767Z",
     "iopub.status.busy": "2023-07-20T17:43:46.563333Z",
     "iopub.status.idle": "2023-07-20T17:43:47.310278Z",
     "shell.execute_reply": "2023-07-20T17:43:47.309051Z"
    },
    "papermill": {
     "duration": 0.768545,
     "end_time": "2023-07-20T17:43:47.313007",
     "exception": false,
     "start_time": "2023-07-20T17:43:46.544462",
     "status": "completed"
    },
    "tags": []
   },
   "outputs": [
    {
     "data": {
      "image/png": "[encoded data removed]",
      "text/plain": [
       "<Figure size 640x480 with 1 Axes>"
      ]
     },
     "metadata": {},
     "output_type": "display_data"
    }
   ],
   "source": [
    "model = ARIMA(davg_df.USAvgTemp, order=(1,0,1))  \n",
    "results = model.fit()  \n",
    "plt.plot(davg_df.USAvgTemp)\n",
    "plt.plot(results.fittedvalues, color='red')\n",
    "plt.title('Fitting data MSE: %.2f'% (((results.fittedvalues-davg_df.USAvgTemp)**2).mean()))\n",
    "plt.show()"
   ]
  },
  {
   "cell_type": "code",
   "execution_count": 15,
   "id": "45e0317b",
   "metadata": {
    "execution": {
     "iopub.execute_input": "2023-07-20T17:43:47.351611Z",
     "iopub.status.busy": "2023-07-20T17:43:47.351181Z",
     "iopub.status.idle": "2023-07-20T17:43:47.358897Z",
     "shell.execute_reply": "2023-07-20T17:43:47.357843Z"
    },
    "papermill": {
     "duration": 0.029608,
     "end_time": "2023-07-20T17:43:47.361202",
     "exception": false,
     "start_time": "2023-07-20T17:43:47.331594",
     "status": "completed"
    },
    "tags": []
   },
   "outputs": [],
   "source": [
    "#test future predictions\n",
    "#predictions = results.predict('10/01/2012', '10/01/2025')\n",
    "\n",
    "#test historical data predictions\n",
    "predictions = results.predict(start = '10/01/2012',end = '10/01/2017')"
   ]
  },
  {
   "cell_type": "code",
   "execution_count": 16,
   "id": "a0b8cef0",
   "metadata": {
    "execution": {
     "iopub.execute_input": "2023-07-20T17:43:47.403467Z",
     "iopub.status.busy": "2023-07-20T17:43:47.402653Z",
     "iopub.status.idle": "2023-07-20T17:43:47.410841Z",
     "shell.execute_reply": "2023-07-20T17:43:47.410075Z"
    },
    "papermill": {
     "duration": 0.030254,
     "end_time": "2023-07-20T17:43:47.413256",
     "exception": false,
     "start_time": "2023-07-20T17:43:47.383002",
     "status": "completed"
    },
    "tags": []
   },
   "outputs": [
    {
     "data": {
      "text/plain": [
       "DATE\n",
       "2012-10-01    58.891462\n",
       "2012-10-02    59.879645\n",
       "2012-10-03    66.698242\n",
       "2012-10-04    67.450208\n",
       "2012-10-05    67.609255\n",
       "                ...    \n",
       "2017-09-27    71.212041\n",
       "2017-09-28    71.226874\n",
       "2017-09-29    68.373070\n",
       "2017-09-30    65.672350\n",
       "2017-10-01    64.813678\n",
       "Freq: D, Name: predicted_mean, Length: 1827, dtype: float64"
      ]
     },
     "execution_count": 16,
     "metadata": {},
     "output_type": "execute_result"
    }
   ],
   "source": [
    "predictions"
   ]
  },
  {
   "cell_type": "code",
   "execution_count": 17,
   "id": "16b106ba",
   "metadata": {
    "execution": {
     "iopub.execute_input": "2023-07-20T17:43:47.452135Z",
     "iopub.status.busy": "2023-07-20T17:43:47.451403Z",
     "iopub.status.idle": "2023-07-20T17:43:47.459205Z",
     "shell.execute_reply": "2023-07-20T17:43:47.458419Z"
    },
    "papermill": {
     "duration": 0.03009,
     "end_time": "2023-07-20T17:43:47.461703",
     "exception": false,
     "start_time": "2023-07-20T17:43:47.431613",
     "status": "completed"
    },
    "tags": []
   },
   "outputs": [],
   "source": [
    "actuals = davg_df['10/01/2012':'10/01/2017']['USAvgTemp'][0:1887]"
   ]
  },
  {
   "cell_type": "code",
   "execution_count": 18,
   "id": "ca68d29e",
   "metadata": {
    "execution": {
     "iopub.execute_input": "2023-07-20T17:43:47.502062Z",
     "iopub.status.busy": "2023-07-20T17:43:47.501319Z",
     "iopub.status.idle": "2023-07-20T17:43:47.785324Z",
     "shell.execute_reply": "2023-07-20T17:43:47.783817Z"
    },
    "papermill": {
     "duration": 0.30794,
     "end_time": "2023-07-20T17:43:47.787995",
     "exception": false,
     "start_time": "2023-07-20T17:43:47.480055",
     "status": "completed"
    },
    "tags": []
   },
   "outputs": [
    {
     "name": "stdout",
     "output_type": "stream",
     "text": [
      "MAE:1.4652538279826386\n"
     ]
    }
   ],
   "source": [
    "#Mean Absolute error\n",
    "from sklearn.metrics import mean_absolute_error\n",
    "mae = mean_absolute_error(actuals[0:1887],predictions)\n",
    "print(f'MAE:{mae}')"
   ]
  },
  {
   "cell_type": "code",
   "execution_count": 19,
   "id": "6c1080fa",
   "metadata": {
    "execution": {
     "iopub.execute_input": "2023-07-20T17:43:47.827500Z",
     "iopub.status.busy": "2023-07-20T17:43:47.827000Z",
     "iopub.status.idle": "2023-07-20T17:43:47.836433Z",
     "shell.execute_reply": "2023-07-20T17:43:47.835565Z"
    },
    "papermill": {
     "duration": 0.031702,
     "end_time": "2023-07-20T17:43:47.838463",
     "exception": false,
     "start_time": "2023-07-20T17:43:47.806761",
     "status": "completed"
    },
    "tags": []
   },
   "outputs": [
    {
     "data": {
      "text/plain": [
       "USAvgTemp    False\n",
       "Points       False\n",
       "dtype: bool"
      ]
     },
     "execution_count": 19,
     "metadata": {},
     "output_type": "execute_result"
    }
   ],
   "source": [
    "davg_df.isnull().any(axis=0)"
   ]
  },
  {
   "cell_type": "code",
   "execution_count": 20,
   "id": "d8b7e0bb",
   "metadata": {
    "execution": {
     "iopub.execute_input": "2023-07-20T17:43:47.879402Z",
     "iopub.status.busy": "2023-07-20T17:43:47.878564Z",
     "iopub.status.idle": "2023-07-20T17:43:47.886627Z",
     "shell.execute_reply": "2023-07-20T17:43:47.885425Z"
    },
    "papermill": {
     "duration": 0.032135,
     "end_time": "2023-07-20T17:43:47.889060",
     "exception": false,
     "start_time": "2023-07-20T17:43:47.856925",
     "status": "completed"
    },
    "tags": []
   },
   "outputs": [
    {
     "name": "stdout",
     "output_type": "stream",
     "text": [
      "MSE: 4.162406922874848\n"
     ]
    }
   ],
   "source": [
    "from sklearn.metrics import mean_squared_error\n",
    "\n",
    "# Calculate the mean squared error\n",
    "mse = mean_squared_error(actuals[0:1887], predictions)\n",
    "\n",
    "print(f'MSE: {mse}')"
   ]
  },
  {
   "cell_type": "code",
   "execution_count": 21,
   "id": "8a1fa5cf",
   "metadata": {
    "execution": {
     "iopub.execute_input": "2023-07-20T17:43:47.928722Z",
     "iopub.status.busy": "2023-07-20T17:43:47.928279Z",
     "iopub.status.idle": "2023-07-20T17:43:47.935686Z",
     "shell.execute_reply": "2023-07-20T17:43:47.934472Z"
    },
    "papermill": {
     "duration": 0.031063,
     "end_time": "2023-07-20T17:43:47.938854",
     "exception": false,
     "start_time": "2023-07-20T17:43:47.907791",
     "status": "completed"
    },
    "tags": []
   },
   "outputs": [
    {
     "name": "stdout",
     "output_type": "stream",
     "text": [
      "RMSE: 2.0401977656283345\n"
     ]
    }
   ],
   "source": [
    "from sklearn.metrics import mean_squared_error\n",
    "\n",
    "# Calculate the mean squared error\n",
    "mse = mean_squared_error(actuals[0:1887], predictions)\n",
    "\n",
    "# Calculate the root mean squared error\n",
    "rmse = np.sqrt(mse)\n",
    "\n",
    "print(f'RMSE: {rmse}')"
   ]
  },
  {
   "cell_type": "code",
   "execution_count": null,
   "id": "f49cdd9c",
   "metadata": {
    "papermill": {
     "duration": 0.018204,
     "end_time": "2023-07-20T17:43:47.975680",
     "exception": false,
     "start_time": "2023-07-20T17:43:47.957476",
     "status": "completed"
    },
    "tags": []
   },
   "outputs": [],
   "source": []
  },
  {
   "cell_type": "code",
   "execution_count": 22,
   "id": "4022750d",
   "metadata": {
    "execution": {
     "iopub.execute_input": "2023-07-20T17:43:48.014409Z",
     "iopub.status.busy": "2023-07-20T17:43:48.013976Z",
     "iopub.status.idle": "2023-07-20T17:43:48.020602Z",
     "shell.execute_reply": "2023-07-20T17:43:48.019738Z"
    },
    "papermill": {
     "duration": 0.028788,
     "end_time": "2023-07-20T17:43:48.022937",
     "exception": false,
     "start_time": "2023-07-20T17:43:47.994149",
     "status": "completed"
    },
    "tags": []
   },
   "outputs": [],
   "source": [
    "#to check accuracy of our ARIMA model, keeping actual values aside\n",
    "\n",
    "actuals = davg_df['10/01/2012':'10/01/2017']['USAvgTemp'][0:1887]"
   ]
  },
  {
   "cell_type": "code",
   "execution_count": 23,
   "id": "8f271106",
   "metadata": {
    "execution": {
     "iopub.execute_input": "2023-07-20T17:43:48.062545Z",
     "iopub.status.busy": "2023-07-20T17:43:48.062110Z",
     "iopub.status.idle": "2023-07-20T17:43:52.542389Z",
     "shell.execute_reply": "2023-07-20T17:43:52.540846Z"
    },
    "papermill": {
     "duration": 4.5047,
     "end_time": "2023-07-20T17:43:52.546310",
     "exception": false,
     "start_time": "2023-07-20T17:43:48.041610",
     "status": "completed"
    },
    "tags": []
   },
   "outputs": [
    {
     "name": "stdout",
     "output_type": "stream",
     "text": [
      "ARMA(0, 0) - AIC: 15192.84\n",
      "ARMA(0, 1) - AIC: 8455.97\n",
      "ARMA(0, 2) - AIC: 9057.85\n",
      "ARMA(0, 3) - AIC: 10538.02\n",
      "ARMA(1, 0) - AIC: 8453.69\n",
      "ARMA(1, 1) - AIC: 8268.18\n",
      "ARMA(1, 2) - AIC: 9041.02\n",
      "ARMA(1, 3) - AIC: 10286.69\n",
      "ARMA(2, 0) - AIC: 8253.61\n",
      "ARMA(2, 1) - AIC: 7985.60\n",
      "ARMA(2, 2) - AIC: 8651.53\n",
      "ARMA(2, 3) - AIC: 9751.10\n",
      "ARMA(3, 0) - AIC: 7984.91\n",
      "ARMA(3, 1) - AIC: 7987.58\n",
      "ARMA(3, 2) - AIC: 8577.17\n",
      "ARMA(3, 3) - AIC: 9505.42\n",
      "Best ARMA model: ARMA(3, 0) - AIC: 7984.91\n"
     ]
    }
   ],
   "source": [
    "# Model Tuning\n",
    "\n",
    "import itertools\n",
    "import warnings\n",
    "from statsmodels.tsa.arima.model import ARIMA\n",
    "\n",
    "warnings.filterwarnings('ignore')\n",
    "\n",
    "# parameter ranges\n",
    "p = range(0, 4)\n",
    "d = 0 #ARMA model\n",
    "q = range(0, 4)\n",
    "\n",
    "# all possible combinations of p and q\n",
    "pq = itertools.product(p, q)\n",
    "\n",
    "best_aic = float('inf') \n",
    "best_order = None\n",
    "\n",
    "for order in pq:\n",
    "    try:\n",
    "        model = ARIMA(davg_df['USAvgTemp'], order=(*order, d))\n",
    "        results = model.fit()\n",
    "        aic = results.aic\n",
    "        if aic < best_aic:\n",
    "            best_aic = aic\n",
    "            best_order = order\n",
    "        print(f'ARMA{order} - AIC: {aic:.2f}')\n",
    "    except:\n",
    "        continue\n",
    "\n",
    "print(f'Best ARMA model: ARMA{best_order} - AIC: {best_aic:.2f}')"
   ]
  },
  {
   "cell_type": "code",
   "execution_count": 24,
   "id": "636dda26",
   "metadata": {
    "execution": {
     "iopub.execute_input": "2023-07-20T17:43:52.634668Z",
     "iopub.status.busy": "2023-07-20T17:43:52.633980Z",
     "iopub.status.idle": "2023-07-20T17:43:52.644211Z",
     "shell.execute_reply": "2023-07-20T17:43:52.643435Z"
    },
    "papermill": {
     "duration": 0.055493,
     "end_time": "2023-07-20T17:43:52.646289",
     "exception": false,
     "start_time": "2023-07-20T17:43:52.590796",
     "status": "completed"
    },
    "tags": []
   },
   "outputs": [
    {
     "data": {
      "text/plain": [
       "DATE\n",
       "2012-10-01      0.000000\n",
       "2012-10-02    119.789392\n",
       "2012-10-03     62.197045\n",
       "2012-10-04     67.527918\n",
       "2012-10-05     65.821061\n",
       "2012-10-06     65.415974\n",
       "2012-10-07     58.903373\n",
       "2012-10-08     54.493845\n",
       "2012-10-09     50.072393\n",
       "2012-10-10     54.876908\n",
       "2012-10-11     61.489769\n",
       "2012-10-12     65.214290\n",
       "2012-10-13     56.745806\n",
       "2012-10-14     62.602007\n",
       "2012-10-15     55.874047\n",
       "2012-10-16     71.247678\n",
       "2012-10-17     62.949291\n",
       "2012-10-18     60.366825\n",
       "2012-10-19     63.902933\n",
       "2012-10-20     57.375652\n",
       "Freq: D, Name: predicted_mean, dtype: float64"
      ]
     },
     "execution_count": 24,
     "metadata": {},
     "output_type": "execute_result"
    }
   ],
   "source": [
    "#newmodel = ARIMA(davg_df['USAvgTemp'], order =(3,0,0)) \n",
    "#order: (p,d,q) = autoregressive (p), differencing (d), moving average (q) \n",
    "\n",
    "#using results from AIC test model\n",
    "predictions = results.predict(start = '10/01/2012',end = '10/01/2017')\n",
    "predictions.head(20)"
   ]
  },
  {
   "cell_type": "code",
   "execution_count": 25,
   "id": "effd7617",
   "metadata": {
    "execution": {
     "iopub.execute_input": "2023-07-20T17:43:52.688278Z",
     "iopub.status.busy": "2023-07-20T17:43:52.687549Z",
     "iopub.status.idle": "2023-07-20T17:43:52.695156Z",
     "shell.execute_reply": "2023-07-20T17:43:52.694389Z"
    },
    "papermill": {
     "duration": 0.031299,
     "end_time": "2023-07-20T17:43:52.697414",
     "exception": false,
     "start_time": "2023-07-20T17:43:52.666115",
     "status": "completed"
    },
    "tags": []
   },
   "outputs": [
    {
     "data": {
      "text/plain": [
       "DATE\n",
       "2015-04-22    54.487184\n",
       "2015-04-23    53.805025\n",
       "2015-04-24    52.168140\n",
       "2015-04-25    54.560318\n",
       "2015-04-26    58.276024\n",
       "2015-04-27    56.519811\n",
       "2015-04-28    56.675775\n",
       "2015-04-29    55.414980\n",
       "2015-04-30    58.927219\n",
       "2015-05-01    61.231594\n",
       "2015-05-02    61.007542\n",
       "2015-05-03    65.100084\n",
       "2015-05-04    65.354149\n",
       "2015-05-05    66.636909\n",
       "2015-05-06    63.713800\n",
       "2015-05-07    62.448690\n",
       "2015-05-08    66.155378\n",
       "2015-05-09    64.868325\n",
       "2015-05-10    63.395950\n",
       "2015-05-11    67.829345\n",
       "Freq: D, Name: predicted_mean, dtype: float64"
      ]
     },
     "execution_count": 25,
     "metadata": {},
     "output_type": "execute_result"
    }
   ],
   "source": [
    "predictions[933:953]"
   ]
  },
  {
   "cell_type": "code",
   "execution_count": 26,
   "id": "4a26b862",
   "metadata": {
    "execution": {
     "iopub.execute_input": "2023-07-20T17:43:52.739794Z",
     "iopub.status.busy": "2023-07-20T17:43:52.739064Z",
     "iopub.status.idle": "2023-07-20T17:43:52.746807Z",
     "shell.execute_reply": "2023-07-20T17:43:52.745923Z"
    },
    "papermill": {
     "duration": 0.03141,
     "end_time": "2023-07-20T17:43:52.749010",
     "exception": false,
     "start_time": "2023-07-20T17:43:52.717600",
     "status": "completed"
    },
    "tags": []
   },
   "outputs": [
    {
     "data": {
      "text/plain": [
       "DATE\n",
       "2017-09-12    71.536902\n",
       "2017-09-13    72.361202\n",
       "2017-09-14    71.397503\n",
       "2017-09-15    74.080863\n",
       "2017-09-16    72.030652\n",
       "2017-09-17    73.170913\n",
       "2017-09-18    70.844677\n",
       "2017-09-19    70.393413\n",
       "2017-09-20    72.539797\n",
       "2017-09-21    74.483537\n",
       "2017-09-22    74.339138\n",
       "2017-09-23    72.461104\n",
       "2017-09-24    72.084268\n",
       "2017-09-25    70.640008\n",
       "2017-09-26    72.048252\n",
       "2017-09-27    71.356350\n",
       "2017-09-28    71.358232\n",
       "2017-09-29    67.266768\n",
       "2017-09-30    63.503598\n",
       "2017-10-01    63.535123\n",
       "Freq: D, Name: predicted_mean, dtype: float64"
      ]
     },
     "execution_count": 26,
     "metadata": {},
     "output_type": "execute_result"
    }
   ],
   "source": [
    "predictions.tail(20)"
   ]
  },
  {
   "cell_type": "code",
   "execution_count": 27,
   "id": "b498947d",
   "metadata": {
    "execution": {
     "iopub.execute_input": "2023-07-20T17:43:52.790678Z",
     "iopub.status.busy": "2023-07-20T17:43:52.789889Z",
     "iopub.status.idle": "2023-07-20T17:43:52.798240Z",
     "shell.execute_reply": "2023-07-20T17:43:52.797185Z"
    },
    "papermill": {
     "duration": 0.032079,
     "end_time": "2023-07-20T17:43:52.800806",
     "exception": false,
     "start_time": "2023-07-20T17:43:52.768727",
     "status": "completed"
    },
    "tags": []
   },
   "outputs": [
    {
     "name": "stdout",
     "output_type": "stream",
     "text": [
      "MAE:2.2307785538679497\n"
     ]
    }
   ],
   "source": [
    "predictions = results.predict(start = '10/01/2012',end = '10/01/2017')\n",
    "mae = mean_absolute_error(actuals[0:1887],predictions)\n",
    "print(f'MAE:{mae}')"
   ]
  },
  {
   "cell_type": "code",
   "execution_count": 28,
   "id": "aa440391",
   "metadata": {
    "execution": {
     "iopub.execute_input": "2023-07-20T17:43:52.842177Z",
     "iopub.status.busy": "2023-07-20T17:43:52.841741Z",
     "iopub.status.idle": "2023-07-20T17:43:53.243833Z",
     "shell.execute_reply": "2023-07-20T17:43:53.242935Z"
    },
    "papermill": {
     "duration": 0.42548,
     "end_time": "2023-07-20T17:43:53.246177",
     "exception": false,
     "start_time": "2023-07-20T17:43:52.820697",
     "status": "completed"
    },
    "tags": []
   },
   "outputs": [
    {
     "data": {
      "image/png": "[encoded data removed]",
      "text/plain": [
       "<Figure size 640x480 with 1 Axes>"
      ]
     },
     "metadata": {},
     "output_type": "display_data"
    }
   ],
   "source": [
    "# Plotting the actual data and fitted values\n",
    "plt.plot(davg_df['USAvgTemp'], label='Actual Data')\n",
    "plt.plot(predictions, label='Fitted Values')\n",
    "plt.xlabel('Time')\n",
    "plt.ylabel('Temperature')\n",
    "plt.title('Actual Data vs. Fitted Values - MAE:1.445')\n",
    "plt.legend()\n",
    "plt.show()"
   ]
  },
  {
   "cell_type": "markdown",
   "id": "590af97d",
   "metadata": {
    "papermill": {
     "duration": 0.020759,
     "end_time": "2023-07-20T17:43:53.288214",
     "exception": false,
     "start_time": "2023-07-20T17:43:53.267455",
     "status": "completed"
    },
    "tags": []
   },
   "source": []
  },
  {
   "cell_type": "code",
   "execution_count": 29,
   "id": "3551f1ef",
   "metadata": {
    "execution": {
     "iopub.execute_input": "2023-07-20T17:43:53.331829Z",
     "iopub.status.busy": "2023-07-20T17:43:53.331395Z",
     "iopub.status.idle": "2023-07-20T17:44:28.333719Z",
     "shell.execute_reply": "2023-07-20T17:44:28.332452Z"
    },
    "papermill": {
     "duration": 35.028246,
     "end_time": "2023-07-20T17:44:28.337108",
     "exception": false,
     "start_time": "2023-07-20T17:43:53.308862",
     "status": "completed"
    },
    "tags": []
   },
   "outputs": [
    {
     "name": "stdout",
     "output_type": "stream",
     "text": [
      "ARIMA(0, 0, 0) - MSE:183.33677012473672\n",
      "ARIMA(0, 0, 1) - MSE:51.03073595869689\n",
      "ARIMA(0, 0, 2) - MSE:20.698589448154046\n",
      "ARIMA(0, 0, 3) - MSE:12.129670575285973\n",
      "ARIMA(0, 1, 0) - MSE:7.077327883375178\n",
      "ARIMA(0, 1, 1) - MSE:6.134384761042756\n",
      "ARIMA(0, 1, 2) - MSE:6.075006542161173\n",
      "ARIMA(0, 1, 3) - MSE:5.8501384844419855\n",
      "ARIMA(1, 0, 0) - MSE:5.140388121044646\n",
      "ARIMA(1, 0, 1) - MSE:4.177645343828546\n",
      "ARIMA(1, 0, 2) - MSE:4.135827935466073\n",
      "ARIMA(1, 0, 3) - MSE:3.9354533768287565\n",
      "ARIMA(1, 1, 0) - MSE:6.5827660539642565\n",
      "ARIMA(1, 1, 1) - MSE:6.107009777953666\n",
      "ARIMA(1, 1, 2) - MSE:5.834345544283353\n",
      "ARIMA(1, 1, 3) - MSE:5.78991093132319\n",
      "ARIMA(2, 0, 0) - MSE:4.619156101868853\n",
      "ARIMA(2, 0, 1) - MSE:4.157818745910396\n",
      "ARIMA(2, 0, 2) - MSE:3.9300425408330506\n",
      "ARIMA(2, 0, 3) - MSE:3.880363672134126\n",
      "ARIMA(2, 1, 0) - MSE:5.928303623312682\n",
      "ARIMA(2, 1, 1) - MSE:5.928115765476473\n",
      "ARIMA(2, 1, 2) - MSE:5.792192896254727\n",
      "ARIMA(2, 1, 3) - MSE:5.78990335439563\n",
      "ARIMA(3, 0, 0) - MSE:4.002867335911247\n",
      "ARIMA(3, 0, 1) - MSE:4.001571137224068\n",
      "ARIMA(3, 0, 2) - MSE:3.8826244089903743\n",
      "ARIMA(3, 0, 3) - MSE:3.8803709360548617\n",
      "ARIMA(3, 1, 0) - MSE:5.928255790258381\n",
      "ARIMA(3, 1, 1) - MSE:5.914811040433212\n",
      "ARIMA(3, 1, 2) - MSE:5.791662256087249\n",
      "ARIMA(3, 1, 3) - MSE:5.789779678691517\n"
     ]
    }
   ],
   "source": [
    "# Model Tuning\n",
    "\n",
    "p = q = range(0, 4)\n",
    "d = range(0, 2)\n",
    "pqd = itertools.product(p, d, q)\n",
    "\n",
    "best_aic = np.inf\n",
    "best_order = None\n",
    "\n",
    "best_mse = np.inf\n",
    "best_model = None\n",
    "\n",
    "for param in pqd:\n",
    "    try:\n",
    "        model = ARIMA(davg_df['USAvgTemp'], order=param)\n",
    "        results = model.fit()\n",
    "        mse = ((results.fittedvalues - davg_df['USAvgTemp']) ** 2).mean()\n",
    "        if mse < best_mse:\n",
    "            best_mse = mse\n",
    "            best_order = param\n",
    "            best_model = results\n",
    "        print('ARIMA{} - MSE:{}'.format(param, mse))\n",
    "    except Exception as e:\n",
    "        print(f\"Exception occurred for ARIMA{param}: {e}\")\n",
    "        continue"
   ]
  },
  {
   "cell_type": "code",
   "execution_count": 30,
   "id": "53ea1d22",
   "metadata": {
    "execution": {
     "iopub.execute_input": "2023-07-20T17:44:28.432831Z",
     "iopub.status.busy": "2023-07-20T17:44:28.432402Z",
     "iopub.status.idle": "2023-07-20T17:44:28.822477Z",
     "shell.execute_reply": "2023-07-20T17:44:28.821295Z"
    },
    "papermill": {
     "duration": 0.439611,
     "end_time": "2023-07-20T17:44:28.825726",
     "exception": false,
     "start_time": "2023-07-20T17:44:28.386115",
     "status": "completed"
    },
    "tags": []
   },
   "outputs": [
    {
     "name": "stdout",
     "output_type": "stream",
     "text": [
      "Best ARIMA Order: (2, 0, 3)\n",
      "Best MSE: 3.880363672134126\n"
     ]
    },
    {
     "data": {
      "image/png": "[encoded data removed]",
      "text/plain": [
       "<Figure size 640x480 with 1 Axes>"
      ]
     },
     "metadata": {},
     "output_type": "display_data"
    }
   ],
   "source": [
    "if best_model is not None:\n",
    "    print('Best ARIMA Order:', best_order)\n",
    "    print('Best MSE:', best_mse)\n",
    "\n",
    "    plt.plot(davg_df['USAvgTemp'], label='Actual Data')\n",
    "    plt.plot(best_model.fittedvalues, color='red')\n",
    "    plt.plot(best_model.fittedvalues, label='Fitted Values')\n",
    "    plt.title('Fitting data - MSE: %.2f' % best_mse)\n",
    "    plt.legend()\n",
    "    plt.show()\n",
    "else:\n",
    "    print('No best model found. Adjust your parameter range or check for errors in the data.')"
   ]
  },
  {
   "cell_type": "code",
   "execution_count": 31,
   "id": "966989c1",
   "metadata": {
    "execution": {
     "iopub.execute_input": "2023-07-20T17:44:28.877549Z",
     "iopub.status.busy": "2023-07-20T17:44:28.877128Z",
     "iopub.status.idle": "2023-07-20T17:44:28.890638Z",
     "shell.execute_reply": "2023-07-20T17:44:28.889614Z"
    },
    "papermill": {
     "duration": 0.042828,
     "end_time": "2023-07-20T17:44:28.893450",
     "exception": false,
     "start_time": "2023-07-20T17:44:28.850622",
     "status": "completed"
    },
    "tags": []
   },
   "outputs": [
    {
     "data": {
      "text/html": [
       "<div>\n",
       "<style scoped>\n",
       "    .dataframe tbody tr th:only-of-type {\n",
       "        vertical-align: middle;\n",
       "    }\n",
       "\n",
       "    .dataframe tbody tr th {\n",
       "        vertical-align: top;\n",
       "    }\n",
       "\n",
       "    .dataframe thead th {\n",
       "        text-align: right;\n",
       "    }\n",
       "</style>\n",
       "<table border=\"1\" class=\"dataframe\">\n",
       "  <thead>\n",
       "    <tr style=\"text-align: right;\">\n",
       "      <th></th>\n",
       "      <th>USAvgTemp</th>\n",
       "      <th>Points</th>\n",
       "    </tr>\n",
       "    <tr>\n",
       "      <th>DATE</th>\n",
       "      <th></th>\n",
       "      <th></th>\n",
       "    </tr>\n",
       "  </thead>\n",
       "  <tbody>\n",
       "    <tr>\n",
       "      <th>2012-10-01</th>\n",
       "      <td>False</td>\n",
       "      <td>False</td>\n",
       "    </tr>\n",
       "    <tr>\n",
       "      <th>2012-10-02</th>\n",
       "      <td>False</td>\n",
       "      <td>False</td>\n",
       "    </tr>\n",
       "    <tr>\n",
       "      <th>2012-10-03</th>\n",
       "      <td>False</td>\n",
       "      <td>False</td>\n",
       "    </tr>\n",
       "    <tr>\n",
       "      <th>2012-10-04</th>\n",
       "      <td>False</td>\n",
       "      <td>False</td>\n",
       "    </tr>\n",
       "    <tr>\n",
       "      <th>2012-10-05</th>\n",
       "      <td>False</td>\n",
       "      <td>False</td>\n",
       "    </tr>\n",
       "    <tr>\n",
       "      <th>...</th>\n",
       "      <td>...</td>\n",
       "      <td>...</td>\n",
       "    </tr>\n",
       "    <tr>\n",
       "      <th>2017-11-26</th>\n",
       "      <td>False</td>\n",
       "      <td>False</td>\n",
       "    </tr>\n",
       "    <tr>\n",
       "      <th>2017-11-27</th>\n",
       "      <td>False</td>\n",
       "      <td>False</td>\n",
       "    </tr>\n",
       "    <tr>\n",
       "      <th>2017-11-28</th>\n",
       "      <td>False</td>\n",
       "      <td>False</td>\n",
       "    </tr>\n",
       "    <tr>\n",
       "      <th>2017-11-29</th>\n",
       "      <td>False</td>\n",
       "      <td>False</td>\n",
       "    </tr>\n",
       "    <tr>\n",
       "      <th>2017-11-30</th>\n",
       "      <td>False</td>\n",
       "      <td>False</td>\n",
       "    </tr>\n",
       "  </tbody>\n",
       "</table>\n",
       "<p>1887 rows × 2 columns</p>\n",
       "</div>"
      ],
      "text/plain": [
       "            USAvgTemp  Points\n",
       "DATE                         \n",
       "2012-10-01      False   False\n",
       "2012-10-02      False   False\n",
       "2012-10-03      False   False\n",
       "2012-10-04      False   False\n",
       "2012-10-05      False   False\n",
       "...               ...     ...\n",
       "2017-11-26      False   False\n",
       "2017-11-27      False   False\n",
       "2017-11-28      False   False\n",
       "2017-11-29      False   False\n",
       "2017-11-30      False   False\n",
       "\n",
       "[1887 rows x 2 columns]"
      ]
     },
     "execution_count": 31,
     "metadata": {},
     "output_type": "execute_result"
    }
   ],
   "source": [
    "davg_df.isnull()"
   ]
  },
  {
   "cell_type": "code",
   "execution_count": 32,
   "id": "63c8b570",
   "metadata": {
    "execution": {
     "iopub.execute_input": "2023-07-20T17:44:28.943317Z",
     "iopub.status.busy": "2023-07-20T17:44:28.942937Z",
     "iopub.status.idle": "2023-07-20T17:44:28.951943Z",
     "shell.execute_reply": "2023-07-20T17:44:28.950799Z"
    },
    "papermill": {
     "duration": 0.03826,
     "end_time": "2023-07-20T17:44:28.955730",
     "exception": false,
     "start_time": "2023-07-20T17:44:28.917470",
     "status": "completed"
    },
    "tags": []
   },
   "outputs": [
    {
     "data": {
      "text/plain": [
       "USAvgTemp    0\n",
       "Points       0\n",
       "dtype: int64"
      ]
     },
     "execution_count": 32,
     "metadata": {},
     "output_type": "execute_result"
    }
   ],
   "source": [
    "davg_df.isnull().sum()"
   ]
  },
  {
   "cell_type": "code",
   "execution_count": 33,
   "id": "22a01cdf",
   "metadata": {
    "execution": {
     "iopub.execute_input": "2023-07-20T17:44:29.006715Z",
     "iopub.status.busy": "2023-07-20T17:44:29.006298Z",
     "iopub.status.idle": "2023-07-20T17:44:29.016026Z",
     "shell.execute_reply": "2023-07-20T17:44:29.014947Z"
    },
    "papermill": {
     "duration": 0.037913,
     "end_time": "2023-07-20T17:44:29.018438",
     "exception": false,
     "start_time": "2023-07-20T17:44:28.980525",
     "status": "completed"
    },
    "tags": []
   },
   "outputs": [
    {
     "data": {
      "text/plain": [
       "USAvgTemp    False\n",
       "Points       False\n",
       "dtype: bool"
      ]
     },
     "execution_count": 33,
     "metadata": {},
     "output_type": "execute_result"
    }
   ],
   "source": [
    "davg_df.isnull().any(axis=0)"
   ]
  },
  {
   "cell_type": "code",
   "execution_count": 34,
   "id": "d82d7c68",
   "metadata": {
    "execution": {
     "iopub.execute_input": "2023-07-20T17:44:29.069300Z",
     "iopub.status.busy": "2023-07-20T17:44:29.068913Z",
     "iopub.status.idle": "2023-07-20T17:44:29.205716Z",
     "shell.execute_reply": "2023-07-20T17:44:29.204438Z"
    },
    "papermill": {
     "duration": 0.165308,
     "end_time": "2023-07-20T17:44:29.208241",
     "exception": false,
     "start_time": "2023-07-20T17:44:29.042933",
     "status": "completed"
    },
    "tags": []
   },
   "outputs": [
    {
     "data": {
      "text/plain": [
       "2012-10-01     0.000000\n",
       "2012-10-02    59.894690\n",
       "2012-10-03    66.322297\n",
       "2012-10-04    66.553570\n",
       "2012-10-05    66.856763\n",
       "2012-10-06    66.557192\n",
       "2012-10-07    62.650662\n",
       "2012-10-08    59.263673\n",
       "2012-10-09    55.382435\n",
       "2012-10-10    57.212073\n",
       "2012-10-11    59.923199\n",
       "2012-10-12    61.771149\n",
       "2012-10-13    56.760521\n",
       "2012-10-14    61.160955\n",
       "2012-10-15    57.877736\n",
       "2012-10-16    67.330025\n",
       "2012-10-17    61.568092\n",
       "2012-10-18    61.218261\n",
       "2012-10-19    62.937578\n",
       "2012-10-20    60.517769\n",
       "Freq: D, Name: predicted_mean, dtype: float64"
      ]
     },
     "execution_count": 34,
     "metadata": {},
     "output_type": "execute_result"
    }
   ],
   "source": [
    "#using results from MSE test model\n",
    "predictions = results.predict(start = '10/01/2012',end = '10/01/2025')\n",
    "predictions.head(20)"
   ]
  },
  {
   "cell_type": "code",
   "execution_count": 35,
   "id": "75dd4f97",
   "metadata": {
    "execution": {
     "iopub.execute_input": "2023-07-20T17:44:29.259767Z",
     "iopub.status.busy": "2023-07-20T17:44:29.259282Z",
     "iopub.status.idle": "2023-07-20T17:44:29.268103Z",
     "shell.execute_reply": "2023-07-20T17:44:29.267042Z"
    },
    "papermill": {
     "duration": 0.037657,
     "end_time": "2023-07-20T17:44:29.270882",
     "exception": false,
     "start_time": "2023-07-20T17:44:29.233225",
     "status": "completed"
    },
    "tags": []
   },
   "outputs": [
    {
     "data": {
      "text/plain": [
       "2015-04-22    56.319376\n",
       "2015-04-23    55.746218\n",
       "2015-04-24    54.140839\n",
       "2015-04-25    54.610991\n",
       "2015-04-26    56.811627\n",
       "2015-04-27    56.012789\n",
       "2015-04-28    56.033533\n",
       "2015-04-29    55.513298\n",
       "2015-04-30    58.163464\n",
       "2015-05-01    59.473838\n",
       "2015-05-02    59.526792\n",
       "2015-05-03    62.286772\n",
       "2015-05-04    63.388940\n",
       "2015-05-05    64.827675\n",
       "2015-05-06    63.245509\n",
       "2015-05-07    63.037484\n",
       "2015-05-08    65.377753\n",
       "2015-05-09    64.727970\n",
       "2015-05-10    63.516717\n",
       "2015-05-11    66.119559\n",
       "Freq: D, Name: predicted_mean, dtype: float64"
      ]
     },
     "execution_count": 35,
     "metadata": {},
     "output_type": "execute_result"
    }
   ],
   "source": [
    "predictions[933:953]"
   ]
  },
  {
   "cell_type": "code",
   "execution_count": 36,
   "id": "bfa60771",
   "metadata": {
    "execution": {
     "iopub.execute_input": "2023-07-20T17:44:29.324130Z",
     "iopub.status.busy": "2023-07-20T17:44:29.323716Z",
     "iopub.status.idle": "2023-07-20T17:44:29.333481Z",
     "shell.execute_reply": "2023-07-20T17:44:29.332429Z"
    },
    "papermill": {
     "duration": 0.038823,
     "end_time": "2023-07-20T17:44:29.335904",
     "exception": false,
     "start_time": "2023-07-20T17:44:29.297081",
     "status": "completed"
    },
    "tags": []
   },
   "outputs": [
    {
     "data": {
      "text/plain": [
       "2017-12-02    55.070530\n",
       "2017-12-03    54.045095\n",
       "2017-12-04    53.604772\n",
       "2017-12-05    53.424675\n",
       "2017-12-06    53.360673\n",
       "                ...    \n",
       "2025-09-27    53.327914\n",
       "2025-09-28    53.327914\n",
       "2025-09-29    53.327914\n",
       "2025-09-30    53.327914\n",
       "2025-10-01    53.327914\n",
       "Freq: D, Name: predicted_mean, Length: 2861, dtype: float64"
      ]
     },
     "execution_count": 36,
     "metadata": {},
     "output_type": "execute_result"
    }
   ],
   "source": [
    "predictions[1888:4749]"
   ]
  },
  {
   "cell_type": "code",
   "execution_count": 37,
   "id": "68501618",
   "metadata": {
    "execution": {
     "iopub.execute_input": "2023-07-20T17:44:29.388481Z",
     "iopub.status.busy": "2023-07-20T17:44:29.387658Z",
     "iopub.status.idle": "2023-07-20T17:44:29.396117Z",
     "shell.execute_reply": "2023-07-20T17:44:29.395330Z"
    },
    "papermill": {
     "duration": 0.037372,
     "end_time": "2023-07-20T17:44:29.398301",
     "exception": false,
     "start_time": "2023-07-20T17:44:29.360929",
     "status": "completed"
    },
    "tags": []
   },
   "outputs": [
    {
     "data": {
      "text/plain": [
       "2025-09-12    53.327914\n",
       "2025-09-13    53.327914\n",
       "2025-09-14    53.327914\n",
       "2025-09-15    53.327914\n",
       "2025-09-16    53.327914\n",
       "2025-09-17    53.327914\n",
       "2025-09-18    53.327914\n",
       "2025-09-19    53.327914\n",
       "2025-09-20    53.327914\n",
       "2025-09-21    53.327914\n",
       "2025-09-22    53.327914\n",
       "2025-09-23    53.327914\n",
       "2025-09-24    53.327914\n",
       "2025-09-25    53.327914\n",
       "2025-09-26    53.327914\n",
       "2025-09-27    53.327914\n",
       "2025-09-28    53.327914\n",
       "2025-09-29    53.327914\n",
       "2025-09-30    53.327914\n",
       "2025-10-01    53.327914\n",
       "Freq: D, Name: predicted_mean, dtype: float64"
      ]
     },
     "execution_count": 37,
     "metadata": {},
     "output_type": "execute_result"
    }
   ],
   "source": [
    "predictions.tail(20)"
   ]
  },
  {
   "cell_type": "code",
   "execution_count": 38,
   "id": "f854e31f",
   "metadata": {
    "execution": {
     "iopub.execute_input": "2023-07-20T17:44:29.450801Z",
     "iopub.status.busy": "2023-07-20T17:44:29.450411Z",
     "iopub.status.idle": "2023-07-20T17:44:29.478811Z",
     "shell.execute_reply": "2023-07-20T17:44:29.477624Z"
    },
    "papermill": {
     "duration": 0.057674,
     "end_time": "2023-07-20T17:44:29.481196",
     "exception": false,
     "start_time": "2023-07-20T17:44:29.423522",
     "status": "completed"
    },
    "tags": []
   },
   "outputs": [
    {
     "data": {
      "text/plain": [
       "2018-11-06    53.327914\n",
       "2018-11-07    53.327914\n",
       "2018-11-08    53.327914\n",
       "2018-11-09    53.327914\n",
       "2018-11-10    53.327914\n",
       "2018-11-11    53.327914\n",
       "2018-11-12    53.327914\n",
       "2018-11-13    53.327914\n",
       "2018-11-14    53.327914\n",
       "2018-11-15    53.327914\n",
       "2018-11-16    53.327914\n",
       "2018-11-17    53.327914\n",
       "2018-11-18    53.327914\n",
       "2018-11-19    53.327914\n",
       "2018-11-20    53.327914\n",
       "2018-11-21    53.327914\n",
       "2018-11-22    53.327914\n",
       "2018-11-23    53.327914\n",
       "2018-11-24    53.327914\n",
       "2018-11-25    53.327914\n",
       "2018-11-26    53.327914\n",
       "2018-11-27    53.327914\n",
       "2018-11-28    53.327914\n",
       "2018-11-29    53.327914\n",
       "2018-11-30    53.327914\n",
       "Freq: D, Name: predicted_mean, dtype: float64"
      ]
     },
     "execution_count": 38,
     "metadata": {},
     "output_type": "execute_result"
    }
   ],
   "source": [
    "forecast = results.forecast(steps=365)\n",
    "forecast[340:365]"
   ]
  }
 ],
 "metadata": {
  "kernelspec": {
   "display_name": "Python 3",
   "language": "python",
   "name": "python3"
  },
  "language_info": {
   "codemirror_mode": {
    "name": "ipython",
    "version": 3
   },
   "file_extension": ".py",
   "mimetype": "text/x-python",
   "name": "python",
   "nbconvert_exporter": "python",
   "pygments_lexer": "ipython3",
   "version": "3.10.10"
  },
  "papermill": {
   "default_parameters": {},
   "duration": 62.000344,
   "end_time": "2023-07-20T17:44:30.529611",
   "environment_variables": {},
   "exception": null,
   "input_path": "__notebook__.ipynb",
   "output_path": "__notebook__.ipynb",
   "parameters": {},
   "start_time": "2023-07-20T17:43:28.529267",
   "version": "2.4.0"
  }
 },
 "nbformat": 4,
 "nbformat_minor": 5
}
