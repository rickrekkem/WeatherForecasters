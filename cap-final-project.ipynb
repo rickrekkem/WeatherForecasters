{
 "cells": [
  {
   "cell_type": "markdown",
   "id": "bab56bea",
   "metadata": {
    "papermill": {
     "duration": 0.008071,
     "end_time": "2023-07-13T07:21:31.502693",
     "exception": false,
     "start_time": "2023-07-13T07:21:31.494622",
     "status": "completed"
    },
    "tags": []
   },
   "source": [
    "**Intro**"
   ]
  },
  {
   "cell_type": "code",
   "execution_count": 1,
   "id": "a9767f4f",
   "metadata": {
    "_execution_state": "idle",
    "_uuid": "051d70d956493feee0c6d64651c6a088724dca2a",
    "execution": {
     "iopub.execute_input": "2023-07-13T07:21:31.519829Z",
     "iopub.status.busy": "2023-07-13T07:21:31.519334Z",
     "iopub.status.idle": "2023-07-13T07:21:31.537990Z",
     "shell.execute_reply": "2023-07-13T07:21:31.536956Z"
    },
    "papermill": {
     "duration": 0.030092,
     "end_time": "2023-07-13T07:21:31.540432",
     "exception": false,
     "start_time": "2023-07-13T07:21:31.510340",
     "status": "completed"
    },
    "tags": []
   },
   "outputs": [],
   "source": [
    "import pandas as pd\n",
    "import numpy as np\n",
    "import matplotlib.pylab as plt\n",
    "%matplotlib inline"
   ]
  },
  {
   "cell_type": "markdown",
   "id": "20094432",
   "metadata": {
    "papermill": {
     "duration": 0.009314,
     "end_time": "2023-07-13T07:21:31.557260",
     "exception": false,
     "start_time": "2023-07-13T07:21:31.547946",
     "status": "completed"
    },
    "tags": []
   },
   "source": [
    "**Data Cleaning/ Preprocess the Data**"
   ]
  },
  {
   "cell_type": "code",
   "execution_count": 2,
   "id": "475005d8",
   "metadata": {
    "execution": {
     "iopub.execute_input": "2023-07-13T07:21:31.574244Z",
     "iopub.status.busy": "2023-07-13T07:21:31.573555Z",
     "iopub.status.idle": "2023-07-13T07:21:32.130158Z",
     "shell.execute_reply": "2023-07-13T07:21:32.128875Z"
    },
    "papermill": {
     "duration": 0.568019,
     "end_time": "2023-07-13T07:21:32.132783",
     "exception": false,
     "start_time": "2023-07-13T07:21:31.564764",
     "status": "completed"
    },
    "tags": []
   },
   "outputs": [
    {
     "data": {
      "text/html": [
       "<div>\n",
       "<style scoped>\n",
       "    .dataframe tbody tr th:only-of-type {\n",
       "        vertical-align: middle;\n",
       "    }\n",
       "\n",
       "    .dataframe tbody tr th {\n",
       "        vertical-align: top;\n",
       "    }\n",
       "\n",
       "    .dataframe thead th {\n",
       "        text-align: right;\n",
       "    }\n",
       "</style>\n",
       "<table border=\"1\" class=\"dataframe\">\n",
       "  <thead>\n",
       "    <tr style=\"text-align: right;\">\n",
       "      <th></th>\n",
       "      <th>datetime</th>\n",
       "      <th>Portland</th>\n",
       "      <th>San Francisco</th>\n",
       "      <th>Seattle</th>\n",
       "      <th>Los Angeles</th>\n",
       "      <th>San Diego</th>\n",
       "      <th>Las Vegas</th>\n",
       "      <th>Phoenix</th>\n",
       "      <th>Albuquerque</th>\n",
       "      <th>Denver</th>\n",
       "      <th>...</th>\n",
       "      <th>Indianapolis</th>\n",
       "      <th>Atlanta</th>\n",
       "      <th>Detroit</th>\n",
       "      <th>Jacksonville</th>\n",
       "      <th>Charlotte</th>\n",
       "      <th>Miami</th>\n",
       "      <th>Pittsburgh</th>\n",
       "      <th>Philadelphia</th>\n",
       "      <th>New York</th>\n",
       "      <th>Boston</th>\n",
       "    </tr>\n",
       "  </thead>\n",
       "  <tbody>\n",
       "    <tr>\n",
       "      <th>0</th>\n",
       "      <td>2012-10-01 12:00:00</td>\n",
       "      <td>NaN</td>\n",
       "      <td>NaN</td>\n",
       "      <td>NaN</td>\n",
       "      <td>NaN</td>\n",
       "      <td>NaN</td>\n",
       "      <td>NaN</td>\n",
       "      <td>NaN</td>\n",
       "      <td>NaN</td>\n",
       "      <td>NaN</td>\n",
       "      <td>...</td>\n",
       "      <td>NaN</td>\n",
       "      <td>NaN</td>\n",
       "      <td>NaN</td>\n",
       "      <td>NaN</td>\n",
       "      <td>NaN</td>\n",
       "      <td>NaN</td>\n",
       "      <td>NaN</td>\n",
       "      <td>NaN</td>\n",
       "      <td>NaN</td>\n",
       "      <td>NaN</td>\n",
       "    </tr>\n",
       "    <tr>\n",
       "      <th>1</th>\n",
       "      <td>2012-10-01 13:00:00</td>\n",
       "      <td>282.080000</td>\n",
       "      <td>289.480000</td>\n",
       "      <td>281.800000</td>\n",
       "      <td>291.870000</td>\n",
       "      <td>291.530000</td>\n",
       "      <td>293.410000</td>\n",
       "      <td>296.600000</td>\n",
       "      <td>285.120000</td>\n",
       "      <td>284.610000</td>\n",
       "      <td>...</td>\n",
       "      <td>283.850000</td>\n",
       "      <td>294.030000</td>\n",
       "      <td>284.030000</td>\n",
       "      <td>298.17000</td>\n",
       "      <td>288.650000</td>\n",
       "      <td>299.720000</td>\n",
       "      <td>281.000000</td>\n",
       "      <td>285.630000</td>\n",
       "      <td>288.220000</td>\n",
       "      <td>287.170000</td>\n",
       "    </tr>\n",
       "    <tr>\n",
       "      <th>2</th>\n",
       "      <td>2012-10-01 14:00:00</td>\n",
       "      <td>282.083252</td>\n",
       "      <td>289.474993</td>\n",
       "      <td>281.797217</td>\n",
       "      <td>291.868186</td>\n",
       "      <td>291.533501</td>\n",
       "      <td>293.403141</td>\n",
       "      <td>296.608509</td>\n",
       "      <td>285.154558</td>\n",
       "      <td>284.607306</td>\n",
       "      <td>...</td>\n",
       "      <td>283.889394</td>\n",
       "      <td>294.035341</td>\n",
       "      <td>284.069789</td>\n",
       "      <td>298.20523</td>\n",
       "      <td>288.650172</td>\n",
       "      <td>299.732518</td>\n",
       "      <td>281.024767</td>\n",
       "      <td>285.663208</td>\n",
       "      <td>288.247676</td>\n",
       "      <td>287.186092</td>\n",
       "    </tr>\n",
       "  </tbody>\n",
       "</table>\n",
       "<p>3 rows × 28 columns</p>\n",
       "</div>"
      ],
      "text/plain": [
       "              datetime    Portland  San Francisco     Seattle  Los Angeles  \\\n",
       "0  2012-10-01 12:00:00         NaN            NaN         NaN          NaN   \n",
       "1  2012-10-01 13:00:00  282.080000     289.480000  281.800000   291.870000   \n",
       "2  2012-10-01 14:00:00  282.083252     289.474993  281.797217   291.868186   \n",
       "\n",
       "    San Diego   Las Vegas     Phoenix  Albuquerque      Denver  ...  \\\n",
       "0         NaN         NaN         NaN          NaN         NaN  ...   \n",
       "1  291.530000  293.410000  296.600000   285.120000  284.610000  ...   \n",
       "2  291.533501  293.403141  296.608509   285.154558  284.607306  ...   \n",
       "\n",
       "   Indianapolis     Atlanta     Detroit  Jacksonville   Charlotte       Miami  \\\n",
       "0           NaN         NaN         NaN           NaN         NaN         NaN   \n",
       "1    283.850000  294.030000  284.030000     298.17000  288.650000  299.720000   \n",
       "2    283.889394  294.035341  284.069789     298.20523  288.650172  299.732518   \n",
       "\n",
       "   Pittsburgh  Philadelphia    New York      Boston  \n",
       "0         NaN           NaN         NaN         NaN  \n",
       "1  281.000000    285.630000  288.220000  287.170000  \n",
       "2  281.024767    285.663208  288.247676  287.186092  \n",
       "\n",
       "[3 rows x 28 columns]"
      ]
     },
     "execution_count": 2,
     "metadata": {},
     "output_type": "execute_result"
    }
   ],
   "source": [
    "#Read data and remove non-US cities\n",
    "df = pd.read_csv(\"/kaggle/input/historical-hourly-weather-data/temperature.csv\", delimiter = \",\")\n",
    "df = df.drop('Vancouver', axis=1)\n",
    "df = df.drop('Toronto', axis=1)\n",
    "df = df.drop('Beersheba', axis=1)\n",
    "df = df.drop('Montreal', axis=1)\n",
    "df = df.drop('Tel Aviv District', axis=1)\n",
    "df = df.drop('Eilat', axis=1)\n",
    "df = df.drop('Haifa', axis=1)\n",
    "df = df.drop('Nahariyya', axis=1)\n",
    "df = df.drop('Jerusalem', axis=1)\n",
    "\n",
    "df.head(3)"
   ]
  },
  {
   "cell_type": "code",
   "execution_count": 3,
   "id": "07e412ac",
   "metadata": {
    "execution": {
     "iopub.execute_input": "2023-07-13T07:21:32.151855Z",
     "iopub.status.busy": "2023-07-13T07:21:32.151477Z",
     "iopub.status.idle": "2023-07-13T07:21:32.303394Z",
     "shell.execute_reply": "2023-07-13T07:21:32.302309Z"
    },
    "papermill": {
     "duration": 0.165377,
     "end_time": "2023-07-13T07:21:32.306135",
     "exception": false,
     "start_time": "2023-07-13T07:21:32.140758",
     "status": "completed"
    },
    "tags": []
   },
   "outputs": [
    {
     "data": {
      "text/html": [
       "<div>\n",
       "<style scoped>\n",
       "    .dataframe tbody tr th:only-of-type {\n",
       "        vertical-align: middle;\n",
       "    }\n",
       "\n",
       "    .dataframe tbody tr th {\n",
       "        vertical-align: top;\n",
       "    }\n",
       "\n",
       "    .dataframe thead th {\n",
       "        text-align: right;\n",
       "    }\n",
       "</style>\n",
       "<table border=\"1\" class=\"dataframe\">\n",
       "  <thead>\n",
       "    <tr style=\"text-align: right;\">\n",
       "      <th></th>\n",
       "      <th>Portland</th>\n",
       "      <th>San Francisco</th>\n",
       "      <th>Seattle</th>\n",
       "      <th>Los Angeles</th>\n",
       "      <th>San Diego</th>\n",
       "      <th>Las Vegas</th>\n",
       "      <th>Phoenix</th>\n",
       "      <th>Albuquerque</th>\n",
       "      <th>Denver</th>\n",
       "      <th>San Antonio</th>\n",
       "      <th>...</th>\n",
       "      <th>Indianapolis</th>\n",
       "      <th>Atlanta</th>\n",
       "      <th>Detroit</th>\n",
       "      <th>Jacksonville</th>\n",
       "      <th>Charlotte</th>\n",
       "      <th>Miami</th>\n",
       "      <th>Pittsburgh</th>\n",
       "      <th>Philadelphia</th>\n",
       "      <th>New York</th>\n",
       "      <th>Boston</th>\n",
       "    </tr>\n",
       "  </thead>\n",
       "  <tbody>\n",
       "    <tr>\n",
       "      <th>count</th>\n",
       "      <td>45252.000000</td>\n",
       "      <td>44460.000000</td>\n",
       "      <td>45250.000000</td>\n",
       "      <td>45250.000000</td>\n",
       "      <td>45252.000000</td>\n",
       "      <td>45252.000000</td>\n",
       "      <td>45250.000000</td>\n",
       "      <td>45252.000000</td>\n",
       "      <td>45252.000000</td>\n",
       "      <td>45252.000000</td>\n",
       "      <td>...</td>\n",
       "      <td>45246.000000</td>\n",
       "      <td>45247.000000</td>\n",
       "      <td>45252.000000</td>\n",
       "      <td>45252.000000</td>\n",
       "      <td>45250.000000</td>\n",
       "      <td>44448.000000</td>\n",
       "      <td>45250.000000</td>\n",
       "      <td>45250.000000</td>\n",
       "      <td>44460.000000</td>\n",
       "      <td>45250.000000</td>\n",
       "    </tr>\n",
       "    <tr>\n",
       "      <th>mean</th>\n",
       "      <td>284.992929</td>\n",
       "      <td>288.155821</td>\n",
       "      <td>284.409626</td>\n",
       "      <td>290.846116</td>\n",
       "      <td>290.215044</td>\n",
       "      <td>292.424887</td>\n",
       "      <td>295.493358</td>\n",
       "      <td>285.617856</td>\n",
       "      <td>282.839407</td>\n",
       "      <td>293.785646</td>\n",
       "      <td>...</td>\n",
       "      <td>284.771904</td>\n",
       "      <td>289.772673</td>\n",
       "      <td>282.971668</td>\n",
       "      <td>294.333380</td>\n",
       "      <td>288.897483</td>\n",
       "      <td>298.181274</td>\n",
       "      <td>284.053939</td>\n",
       "      <td>285.374168</td>\n",
       "      <td>285.400406</td>\n",
       "      <td>283.779823</td>\n",
       "    </tr>\n",
       "    <tr>\n",
       "      <th>std</th>\n",
       "      <td>7.452438</td>\n",
       "      <td>5.332862</td>\n",
       "      <td>6.547986</td>\n",
       "      <td>6.460823</td>\n",
       "      <td>5.889992</td>\n",
       "      <td>10.829522</td>\n",
       "      <td>9.916743</td>\n",
       "      <td>9.853484</td>\n",
       "      <td>10.673464</td>\n",
       "      <td>8.303688</td>\n",
       "      <td>...</td>\n",
       "      <td>11.043634</td>\n",
       "      <td>8.703643</td>\n",
       "      <td>11.034481</td>\n",
       "      <td>6.682162</td>\n",
       "      <td>9.133072</td>\n",
       "      <td>4.190185</td>\n",
       "      <td>10.453927</td>\n",
       "      <td>10.242377</td>\n",
       "      <td>10.220932</td>\n",
       "      <td>9.802499</td>\n",
       "    </tr>\n",
       "    <tr>\n",
       "      <th>min</th>\n",
       "      <td>262.370000</td>\n",
       "      <td>272.300000</td>\n",
       "      <td>263.780000</td>\n",
       "      <td>266.503667</td>\n",
       "      <td>265.783333</td>\n",
       "      <td>260.561333</td>\n",
       "      <td>266.059000</td>\n",
       "      <td>255.042333</td>\n",
       "      <td>247.727667</td>\n",
       "      <td>265.050000</td>\n",
       "      <td>...</td>\n",
       "      <td>244.866333</td>\n",
       "      <td>259.500000</td>\n",
       "      <td>243.483333</td>\n",
       "      <td>268.610000</td>\n",
       "      <td>255.658333</td>\n",
       "      <td>275.233333</td>\n",
       "      <td>249.422667</td>\n",
       "      <td>250.390000</td>\n",
       "      <td>250.774000</td>\n",
       "      <td>249.540000</td>\n",
       "    </tr>\n",
       "    <tr>\n",
       "      <th>25%</th>\n",
       "      <td>279.850000</td>\n",
       "      <td>284.670000</td>\n",
       "      <td>279.830000</td>\n",
       "      <td>286.380000</td>\n",
       "      <td>286.254750</td>\n",
       "      <td>283.920000</td>\n",
       "      <td>287.680000</td>\n",
       "      <td>277.970000</td>\n",
       "      <td>275.060000</td>\n",
       "      <td>288.600000</td>\n",
       "      <td>...</td>\n",
       "      <td>276.110000</td>\n",
       "      <td>283.320417</td>\n",
       "      <td>274.690000</td>\n",
       "      <td>290.040875</td>\n",
       "      <td>282.010000</td>\n",
       "      <td>296.030000</td>\n",
       "      <td>275.857427</td>\n",
       "      <td>277.350636</td>\n",
       "      <td>277.370000</td>\n",
       "      <td>276.090000</td>\n",
       "    </tr>\n",
       "    <tr>\n",
       "      <th>50%</th>\n",
       "      <td>284.320000</td>\n",
       "      <td>287.610000</td>\n",
       "      <td>283.940000</td>\n",
       "      <td>290.530000</td>\n",
       "      <td>290.118750</td>\n",
       "      <td>292.027486</td>\n",
       "      <td>295.586667</td>\n",
       "      <td>286.120000</td>\n",
       "      <td>282.970667</td>\n",
       "      <td>295.184250</td>\n",
       "      <td>...</td>\n",
       "      <td>285.929333</td>\n",
       "      <td>291.050000</td>\n",
       "      <td>283.540000</td>\n",
       "      <td>295.640000</td>\n",
       "      <td>290.120000</td>\n",
       "      <td>298.880000</td>\n",
       "      <td>285.220000</td>\n",
       "      <td>285.927583</td>\n",
       "      <td>285.870000</td>\n",
       "      <td>284.133250</td>\n",
       "    </tr>\n",
       "    <tr>\n",
       "      <th>75%</th>\n",
       "      <td>289.451750</td>\n",
       "      <td>291.015167</td>\n",
       "      <td>288.530000</td>\n",
       "      <td>295.080000</td>\n",
       "      <td>294.107542</td>\n",
       "      <td>300.835000</td>\n",
       "      <td>303.050000</td>\n",
       "      <td>292.835643</td>\n",
       "      <td>290.680000</td>\n",
       "      <td>299.490000</td>\n",
       "      <td>...</td>\n",
       "      <td>293.960000</td>\n",
       "      <td>296.290000</td>\n",
       "      <td>292.231250</td>\n",
       "      <td>299.140000</td>\n",
       "      <td>295.770000</td>\n",
       "      <td>300.992375</td>\n",
       "      <td>292.580000</td>\n",
       "      <td>293.796000</td>\n",
       "      <td>293.760000</td>\n",
       "      <td>291.620000</td>\n",
       "    </tr>\n",
       "    <tr>\n",
       "      <th>max</th>\n",
       "      <td>312.520000</td>\n",
       "      <td>313.620000</td>\n",
       "      <td>307.300000</td>\n",
       "      <td>315.470000</td>\n",
       "      <td>313.360000</td>\n",
       "      <td>318.640000</td>\n",
       "      <td>321.220000</td>\n",
       "      <td>312.710000</td>\n",
       "      <td>313.750000</td>\n",
       "      <td>313.660000</td>\n",
       "      <td>...</td>\n",
       "      <td>312.040000</td>\n",
       "      <td>310.760000</td>\n",
       "      <td>308.050000</td>\n",
       "      <td>310.150000</td>\n",
       "      <td>310.900000</td>\n",
       "      <td>308.680000</td>\n",
       "      <td>306.290000</td>\n",
       "      <td>308.000000</td>\n",
       "      <td>310.240000</td>\n",
       "      <td>308.000000</td>\n",
       "    </tr>\n",
       "  </tbody>\n",
       "</table>\n",
       "<p>8 rows × 27 columns</p>\n",
       "</div>"
      ],
      "text/plain": [
       "           Portland  San Francisco       Seattle   Los Angeles     San Diego  \\\n",
       "count  45252.000000   44460.000000  45250.000000  45250.000000  45252.000000   \n",
       "mean     284.992929     288.155821    284.409626    290.846116    290.215044   \n",
       "std        7.452438       5.332862      6.547986      6.460823      5.889992   \n",
       "min      262.370000     272.300000    263.780000    266.503667    265.783333   \n",
       "25%      279.850000     284.670000    279.830000    286.380000    286.254750   \n",
       "50%      284.320000     287.610000    283.940000    290.530000    290.118750   \n",
       "75%      289.451750     291.015167    288.530000    295.080000    294.107542   \n",
       "max      312.520000     313.620000    307.300000    315.470000    313.360000   \n",
       "\n",
       "          Las Vegas       Phoenix   Albuquerque        Denver   San Antonio  \\\n",
       "count  45252.000000  45250.000000  45252.000000  45252.000000  45252.000000   \n",
       "mean     292.424887    295.493358    285.617856    282.839407    293.785646   \n",
       "std       10.829522      9.916743      9.853484     10.673464      8.303688   \n",
       "min      260.561333    266.059000    255.042333    247.727667    265.050000   \n",
       "25%      283.920000    287.680000    277.970000    275.060000    288.600000   \n",
       "50%      292.027486    295.586667    286.120000    282.970667    295.184250   \n",
       "75%      300.835000    303.050000    292.835643    290.680000    299.490000   \n",
       "max      318.640000    321.220000    312.710000    313.750000    313.660000   \n",
       "\n",
       "       ...  Indianapolis       Atlanta       Detroit  Jacksonville  \\\n",
       "count  ...  45246.000000  45247.000000  45252.000000  45252.000000   \n",
       "mean   ...    284.771904    289.772673    282.971668    294.333380   \n",
       "std    ...     11.043634      8.703643     11.034481      6.682162   \n",
       "min    ...    244.866333    259.500000    243.483333    268.610000   \n",
       "25%    ...    276.110000    283.320417    274.690000    290.040875   \n",
       "50%    ...    285.929333    291.050000    283.540000    295.640000   \n",
       "75%    ...    293.960000    296.290000    292.231250    299.140000   \n",
       "max    ...    312.040000    310.760000    308.050000    310.150000   \n",
       "\n",
       "          Charlotte         Miami    Pittsburgh  Philadelphia      New York  \\\n",
       "count  45250.000000  44448.000000  45250.000000  45250.000000  44460.000000   \n",
       "mean     288.897483    298.181274    284.053939    285.374168    285.400406   \n",
       "std        9.133072      4.190185     10.453927     10.242377     10.220932   \n",
       "min      255.658333    275.233333    249.422667    250.390000    250.774000   \n",
       "25%      282.010000    296.030000    275.857427    277.350636    277.370000   \n",
       "50%      290.120000    298.880000    285.220000    285.927583    285.870000   \n",
       "75%      295.770000    300.992375    292.580000    293.796000    293.760000   \n",
       "max      310.900000    308.680000    306.290000    308.000000    310.240000   \n",
       "\n",
       "             Boston  \n",
       "count  45250.000000  \n",
       "mean     283.779823  \n",
       "std        9.802499  \n",
       "min      249.540000  \n",
       "25%      276.090000  \n",
       "50%      284.133250  \n",
       "75%      291.620000  \n",
       "max      308.000000  \n",
       "\n",
       "[8 rows x 27 columns]"
      ]
     },
     "execution_count": 3,
     "metadata": {},
     "output_type": "execute_result"
    }
   ],
   "source": [
    "df.describe()"
   ]
  },
  {
   "cell_type": "code",
   "execution_count": 4,
   "id": "0af90f42",
   "metadata": {
    "execution": {
     "iopub.execute_input": "2023-07-13T07:21:32.324515Z",
     "iopub.status.busy": "2023-07-13T07:21:32.324018Z",
     "iopub.status.idle": "2023-07-13T07:21:32.354909Z",
     "shell.execute_reply": "2023-07-13T07:21:32.353797Z"
    },
    "papermill": {
     "duration": 0.042826,
     "end_time": "2023-07-13T07:21:32.357295",
     "exception": false,
     "start_time": "2023-07-13T07:21:32.314469",
     "status": "completed"
    },
    "tags": []
   },
   "outputs": [
    {
     "data": {
      "text/html": [
       "<div>\n",
       "<style scoped>\n",
       "    .dataframe tbody tr th:only-of-type {\n",
       "        vertical-align: middle;\n",
       "    }\n",
       "\n",
       "    .dataframe tbody tr th {\n",
       "        vertical-align: top;\n",
       "    }\n",
       "\n",
       "    .dataframe thead th {\n",
       "        text-align: right;\n",
       "    }\n",
       "</style>\n",
       "<table border=\"1\" class=\"dataframe\">\n",
       "  <thead>\n",
       "    <tr style=\"text-align: right;\">\n",
       "      <th></th>\n",
       "      <th>datetime</th>\n",
       "      <th>USAvgTemp</th>\n",
       "    </tr>\n",
       "  </thead>\n",
       "  <tbody>\n",
       "    <tr>\n",
       "      <th>0</th>\n",
       "      <td>2012-10-01 12:00:00</td>\n",
       "      <td>NaN</td>\n",
       "    </tr>\n",
       "    <tr>\n",
       "      <th>1</th>\n",
       "      <td>2012-10-01 13:00:00</td>\n",
       "      <td>288.471111</td>\n",
       "    </tr>\n",
       "    <tr>\n",
       "      <th>2</th>\n",
       "      <td>2012-10-01 14:00:00</td>\n",
       "      <td>288.487097</td>\n",
       "    </tr>\n",
       "  </tbody>\n",
       "</table>\n",
       "</div>"
      ],
      "text/plain": [
       "              datetime   USAvgTemp\n",
       "0  2012-10-01 12:00:00         NaN\n",
       "1  2012-10-01 13:00:00  288.471111\n",
       "2  2012-10-01 14:00:00  288.487097"
      ]
     },
     "execution_count": 4,
     "metadata": {},
     "output_type": "execute_result"
    }
   ],
   "source": [
    "#Take all hourly US city temperatures and condense into a single hourly US average temperature column\n",
    "df['USAvgTemp'] = df[['Portland', 'San Francisco', 'Seattle', 'Los Angeles', 'San Diego', 'Las Vegas', 'Phoenix', 'Albuquerque', 'Denver', 'San Antonio', 'Dallas', 'Houston', 'Kansas City', 'Minneapolis', 'Saint Louis', 'Chicago', 'Nashville', 'Indianapolis', 'Atlanta', 'Detroit', 'Jacksonville', 'Charlotte', 'Miami', 'Pittsburgh', 'Philadelphia', 'New York', 'Boston']].mean(axis=1)\n",
    "df = df.loc[:,[ 'datetime','USAvgTemp']]\n",
    "df.head(3)"
   ]
  },
  {
   "cell_type": "code",
   "execution_count": 5,
   "id": "12be6dc0",
   "metadata": {
    "execution": {
     "iopub.execute_input": "2023-07-13T07:21:32.376117Z",
     "iopub.status.busy": "2023-07-13T07:21:32.375683Z",
     "iopub.status.idle": "2023-07-13T07:21:32.435715Z",
     "shell.execute_reply": "2023-07-13T07:21:32.434267Z"
    },
    "papermill": {
     "duration": 0.072906,
     "end_time": "2023-07-13T07:21:32.438795",
     "exception": false,
     "start_time": "2023-07-13T07:21:32.365889",
     "status": "completed"
    },
    "tags": []
   },
   "outputs": [
    {
     "name": "stderr",
     "output_type": "stream",
     "text": [
      "/tmp/ipykernel_20/1274773254.py:3: FutureWarning: The default value of numeric_only in DataFrameGroupBy.mean is deprecated. In a future version, numeric_only will default to False. Either specify numeric_only or select only columns which should be valid for the function.\n",
      "  davg_df = df.groupby(pd.Grouper(freq='D', key='DATE')).mean()\n"
     ]
    },
    {
     "data": {
      "text/html": [
       "<div>\n",
       "<style scoped>\n",
       "    .dataframe tbody tr th:only-of-type {\n",
       "        vertical-align: middle;\n",
       "    }\n",
       "\n",
       "    .dataframe tbody tr th {\n",
       "        vertical-align: top;\n",
       "    }\n",
       "\n",
       "    .dataframe thead th {\n",
       "        text-align: right;\n",
       "    }\n",
       "</style>\n",
       "<table border=\"1\" class=\"dataframe\">\n",
       "  <thead>\n",
       "    <tr style=\"text-align: right;\">\n",
       "      <th></th>\n",
       "      <th>USAvgTemp</th>\n",
       "    </tr>\n",
       "    <tr>\n",
       "      <th>DATE</th>\n",
       "      <th></th>\n",
       "    </tr>\n",
       "  </thead>\n",
       "  <tbody>\n",
       "    <tr>\n",
       "      <th>2012-10-01</th>\n",
       "      <td>288.646997</td>\n",
       "    </tr>\n",
       "    <tr>\n",
       "      <th>2012-10-02</th>\n",
       "      <td>291.376971</td>\n",
       "    </tr>\n",
       "    <tr>\n",
       "      <th>2012-10-03</th>\n",
       "      <td>292.790571</td>\n",
       "    </tr>\n",
       "  </tbody>\n",
       "</table>\n",
       "</div>"
      ],
      "text/plain": [
       "             USAvgTemp\n",
       "DATE                  \n",
       "2012-10-01  288.646997\n",
       "2012-10-02  291.376971\n",
       "2012-10-03  292.790571"
      ]
     },
     "execution_count": 5,
     "metadata": {},
     "output_type": "execute_result"
    }
   ],
   "source": [
    "#Convert from hourly measurements to daily averages\n",
    "df['DATE'] = pd.to_datetime(df['datetime'], format='%Y-%m-%d')\n",
    "davg_df = df.groupby(pd.Grouper(freq='D', key='DATE')).mean()\n",
    "\n",
    "# monthly\n",
    "#davg_df2 = df.groupby(pd.Grouper(freq='M', key='DATE')).mean()\n",
    "\n",
    "davg_df.head(3)"
   ]
  },
  {
   "cell_type": "code",
   "execution_count": 6,
   "id": "520baae5",
   "metadata": {
    "execution": {
     "iopub.execute_input": "2023-07-13T07:21:32.458893Z",
     "iopub.status.busy": "2023-07-13T07:21:32.457930Z",
     "iopub.status.idle": "2023-07-13T07:21:32.472637Z",
     "shell.execute_reply": "2023-07-13T07:21:32.471773Z"
    },
    "papermill": {
     "duration": 0.026991,
     "end_time": "2023-07-13T07:21:32.474677",
     "exception": false,
     "start_time": "2023-07-13T07:21:32.447686",
     "status": "completed"
    },
    "tags": []
   },
   "outputs": [
    {
     "data": {
      "text/html": [
       "<div>\n",
       "<style scoped>\n",
       "    .dataframe tbody tr th:only-of-type {\n",
       "        vertical-align: middle;\n",
       "    }\n",
       "\n",
       "    .dataframe tbody tr th {\n",
       "        vertical-align: top;\n",
       "    }\n",
       "\n",
       "    .dataframe thead th {\n",
       "        text-align: right;\n",
       "    }\n",
       "</style>\n",
       "<table border=\"1\" class=\"dataframe\">\n",
       "  <thead>\n",
       "    <tr style=\"text-align: right;\">\n",
       "      <th></th>\n",
       "      <th>USAvgTemp</th>\n",
       "    </tr>\n",
       "    <tr>\n",
       "      <th>DATE</th>\n",
       "      <th></th>\n",
       "    </tr>\n",
       "  </thead>\n",
       "  <tbody>\n",
       "    <tr>\n",
       "      <th>2012-10-01</th>\n",
       "      <td>NaN</td>\n",
       "    </tr>\n",
       "    <tr>\n",
       "      <th>2012-10-02</th>\n",
       "      <td>NaN</td>\n",
       "    </tr>\n",
       "    <tr>\n",
       "      <th>2012-10-03</th>\n",
       "      <td>NaN</td>\n",
       "    </tr>\n",
       "    <tr>\n",
       "      <th>2012-10-04</th>\n",
       "      <td>NaN</td>\n",
       "    </tr>\n",
       "    <tr>\n",
       "      <th>2012-10-05</th>\n",
       "      <td>NaN</td>\n",
       "    </tr>\n",
       "    <tr>\n",
       "      <th>...</th>\n",
       "      <td>...</td>\n",
       "    </tr>\n",
       "    <tr>\n",
       "      <th>2017-11-26</th>\n",
       "      <td>NaN</td>\n",
       "    </tr>\n",
       "    <tr>\n",
       "      <th>2017-11-27</th>\n",
       "      <td>NaN</td>\n",
       "    </tr>\n",
       "    <tr>\n",
       "      <th>2017-11-28</th>\n",
       "      <td>NaN</td>\n",
       "    </tr>\n",
       "    <tr>\n",
       "      <th>2017-11-29</th>\n",
       "      <td>NaN</td>\n",
       "    </tr>\n",
       "    <tr>\n",
       "      <th>2017-11-30</th>\n",
       "      <td>NaN</td>\n",
       "    </tr>\n",
       "  </tbody>\n",
       "</table>\n",
       "<p>1887 rows × 1 columns</p>\n",
       "</div>"
      ],
      "text/plain": [
       "            USAvgTemp\n",
       "DATE                 \n",
       "2012-10-01        NaN\n",
       "2012-10-02        NaN\n",
       "2012-10-03        NaN\n",
       "2012-10-04        NaN\n",
       "2012-10-05        NaN\n",
       "...               ...\n",
       "2017-11-26        NaN\n",
       "2017-11-27        NaN\n",
       "2017-11-28        NaN\n",
       "2017-11-29        NaN\n",
       "2017-11-30        NaN\n",
       "\n",
       "[1887 rows x 1 columns]"
      ]
     },
     "execution_count": 6,
     "metadata": {},
     "output_type": "execute_result"
    }
   ],
   "source": [
    "#Remove nulls\n",
    "davg_df[davg_df.isnull()]\n",
    "\n",
    "#monthly\n",
    "#davg_df2[davg_df2.isnull()]"
   ]
  },
  {
   "cell_type": "code",
   "execution_count": 7,
   "id": "789310df",
   "metadata": {
    "execution": {
     "iopub.execute_input": "2023-07-13T07:21:32.494655Z",
     "iopub.status.busy": "2023-07-13T07:21:32.493936Z",
     "iopub.status.idle": "2023-07-13T07:21:32.501880Z",
     "shell.execute_reply": "2023-07-13T07:21:32.500776Z"
    },
    "papermill": {
     "duration": 0.020674,
     "end_time": "2023-07-13T07:21:32.504336",
     "exception": false,
     "start_time": "2023-07-13T07:21:32.483662",
     "status": "completed"
    },
    "tags": []
   },
   "outputs": [],
   "source": [
    "davg_df['Points'] = range(0,len(davg_df.index.values))\n",
    "\n",
    "#monthly\n",
    "#davg_df2['Points'] = range(0,len(davg_df2.index.values))"
   ]
  },
  {
   "cell_type": "code",
   "execution_count": 8,
   "id": "7ccf4995",
   "metadata": {
    "execution": {
     "iopub.execute_input": "2023-07-13T07:21:32.524502Z",
     "iopub.status.busy": "2023-07-13T07:21:32.524130Z",
     "iopub.status.idle": "2023-07-13T07:21:32.530637Z",
     "shell.execute_reply": "2023-07-13T07:21:32.529417Z"
    },
    "papermill": {
     "duration": 0.019249,
     "end_time": "2023-07-13T07:21:32.532829",
     "exception": false,
     "start_time": "2023-07-13T07:21:32.513580",
     "status": "completed"
    },
    "tags": []
   },
   "outputs": [],
   "source": [
    "#Convert from kelvin to Fahrenheit\n",
    "davg_df['USAvgTemp'] = (davg_df['USAvgTemp'] - 273.15) * 9/5 + 32\n",
    "\n",
    "#monthly\n",
    "#davg_df2['USAvgTemp'] = (davg_df2['USAvgTemp'] - 273.15) * 9/5 + 32"
   ]
  },
  {
   "cell_type": "code",
   "execution_count": 9,
   "id": "8f025f2c",
   "metadata": {
    "execution": {
     "iopub.execute_input": "2023-07-13T07:21:32.555103Z",
     "iopub.status.busy": "2023-07-13T07:21:32.554638Z",
     "iopub.status.idle": "2023-07-13T07:21:32.922951Z",
     "shell.execute_reply": "2023-07-13T07:21:32.921847Z"
    },
    "papermill": {
     "duration": 0.381991,
     "end_time": "2023-07-13T07:21:32.925614",
     "exception": false,
     "start_time": "2023-07-13T07:21:32.543623",
     "status": "completed"
    },
    "tags": []
   },
   "outputs": [
    {
     "data": {
      "image/png": "[encoded data removed]",
      "text/plain": [
       "<Figure size 640x480 with 1 Axes>"
      ]
     },
     "metadata": {},
     "output_type": "display_data"
    }
   ],
   "source": [
    "#Plot the original figure with US average temperatures in Fahrenheit over number of data points\n",
    "fig = plt.figure(1)\n",
    "ax1 = fig.add_subplot(111)\n",
    "ax1.set_xlabel('Points')\n",
    "ax1.set_ylabel('Avg. Temp.')\n",
    "ax1.set_title('Original Plot')\n",
    "ax1.plot('Points', 'USAvgTemp', data = davg_df);"
   ]
  },
  {
   "cell_type": "markdown",
   "id": "c6b64c51",
   "metadata": {
    "papermill": {
     "duration": 0.009873,
     "end_time": "2023-07-13T07:21:32.945502",
     "exception": false,
     "start_time": "2023-07-13T07:21:32.935629",
     "status": "completed"
    },
    "tags": []
   },
   "source": [
    "**adfuller import** to perform Augmented Dickey-Fuller Test to determine if time series data is **stationary**\n"
   ]
  },
  {
   "cell_type": "code",
   "execution_count": 10,
   "id": "86597060",
   "metadata": {
    "execution": {
     "iopub.execute_input": "2023-07-13T07:21:32.967441Z",
     "iopub.status.busy": "2023-07-13T07:21:32.966793Z",
     "iopub.status.idle": "2023-07-13T07:21:34.394571Z",
     "shell.execute_reply": "2023-07-13T07:21:34.393561Z"
    },
    "papermill": {
     "duration": 1.441797,
     "end_time": "2023-07-13T07:21:34.397149",
     "exception": false,
     "start_time": "2023-07-13T07:21:32.955352",
     "status": "completed"
    },
    "tags": []
   },
   "outputs": [],
   "source": [
    "from statsmodels.tsa.stattools import adfuller\n",
    "\n",
    "def stationary_ts_check(ts):\n",
    "    #Compute moving average\n",
    "    mov_avg = ts.rolling(window=325).mean()\n",
    "    \n",
    "    #plot original and moving average/rolling mean\n",
    "    plt.figure(figsize=(10, 6))\n",
    "    plt.plot(ts, color='orange', label='Original data')\n",
    "    plt.plot(mov_avg, color='blue', label='Moving Average')\n",
    "    plt.xlabel('Time')\n",
    "    plt.ylabel('Average Temperature (F)')\n",
    "    plt.title('Original Time Series and Moving Average')\n",
    "    plt.legend()\n",
    "    plt.show()\n",
    "    \n",
    "    #Augmented Dickey-Fuller test\n",
    "    print('Augmented Dickey-Fuller test:')\n",
    "    adf_output = adfuller(ts)\n",
    "    df_result = pd.Series(adf_output[0:4], index=['Test Statistic', 'p-value', '#Lags Used', 'Number of Observations Used'])\n",
    "    for key, value in adf_output[4].items():\n",
    "        df_result['Critical Value (%s)' % key] = value\n",
    "    print(df_result)\n"
   ]
  },
  {
   "cell_type": "code",
   "execution_count": 11,
   "id": "ccf6d5f9",
   "metadata": {
    "execution": {
     "iopub.execute_input": "2023-07-13T07:21:34.419772Z",
     "iopub.status.busy": "2023-07-13T07:21:34.419132Z",
     "iopub.status.idle": "2023-07-13T07:21:34.977218Z",
     "shell.execute_reply": "2023-07-13T07:21:34.976051Z"
    },
    "papermill": {
     "duration": 0.573801,
     "end_time": "2023-07-13T07:21:34.981164",
     "exception": false,
     "start_time": "2023-07-13T07:21:34.407363",
     "status": "completed"
    },
    "tags": []
   },
   "outputs": [
    {
     "data": {
      "image/png": "[encoded data removed]",
      "text/plain": [
       "<Figure size 1000x600 with 1 Axes>"
      ]
     },
     "metadata": {},
     "output_type": "display_data"
    },
    {
     "name": "stdout",
     "output_type": "stream",
     "text": [
      "Augmented Dickey-Fuller test:\n",
      "Test Statistic                   -2.438240\n",
      "p-value                           0.131233\n",
      "#Lags Used                       22.000000\n",
      "Number of Observations Used    1864.000000\n",
      "Critical Value (1%)              -3.433863\n",
      "Critical Value (5%)              -2.863092\n",
      "Critical Value (10%)             -2.567596\n",
      "dtype: float64\n"
     ]
    }
   ],
   "source": [
    "stationary_ts_check(davg_df.USAvgTemp)"
   ]
  },
  {
   "cell_type": "markdown",
   "id": "fd7d0182",
   "metadata": {
    "papermill": {
     "duration": 0.023172,
     "end_time": "2023-07-13T07:21:35.027675",
     "exception": false,
     "start_time": "2023-07-13T07:21:35.004503",
     "status": "completed"
    },
    "tags": []
   },
   "source": [
    "**Original Data** - unmodified time series dataset\n",
    "\n",
    "**Rolling Mean** - Moving Average window calculated per 325 data points\n",
    "\n",
    "**Visual check**- rolling mean appears to have no significant trends/patterns - likely stationary\n",
    "\n",
    "**Augmented Dickey-Fuller test-** null hypothesis is rejected if p-value <5% - p value is 0.02, much smaller than 5% - null hypothesis rejected"
   ]
  },
  {
   "cell_type": "code",
   "execution_count": 12,
   "id": "c79dbba5",
   "metadata": {
    "execution": {
     "iopub.execute_input": "2023-07-13T07:21:35.078882Z",
     "iopub.status.busy": "2023-07-13T07:21:35.078214Z",
     "iopub.status.idle": "2023-07-13T07:21:35.092042Z",
     "shell.execute_reply": "2023-07-13T07:21:35.091146Z"
    },
    "papermill": {
     "duration": 0.042914,
     "end_time": "2023-07-13T07:21:35.094375",
     "exception": false,
     "start_time": "2023-07-13T07:21:35.051461",
     "status": "completed"
    },
    "tags": []
   },
   "outputs": [
    {
     "data": {
      "text/plain": [
       "DATE\n",
       "2012-10-01          NaN\n",
       "2012-10-02          NaN\n",
       "2012-10-03          NaN\n",
       "2012-10-04          NaN\n",
       "2012-10-05          NaN\n",
       "                ...    \n",
       "2017-11-26    62.396970\n",
       "2017-11-27    62.460140\n",
       "2017-11-28    62.535494\n",
       "2017-11-29    62.604968\n",
       "2017-11-30    62.661905\n",
       "Freq: D, Name: USAvgTemp, Length: 1887, dtype: float64"
      ]
     },
     "execution_count": 12,
     "metadata": {},
     "output_type": "execute_result"
    }
   ],
   "source": [
    "davg_df.USAvgTemp.rolling(center=False,window=325).mean()"
   ]
  },
  {
   "cell_type": "code",
   "execution_count": 13,
   "id": "440405d4",
   "metadata": {
    "execution": {
     "iopub.execute_input": "2023-07-13T07:21:35.119700Z",
     "iopub.status.busy": "2023-07-13T07:21:35.118894Z",
     "iopub.status.idle": "2023-07-13T07:21:35.364846Z",
     "shell.execute_reply": "2023-07-13T07:21:35.363841Z"
    },
    "papermill": {
     "duration": 0.262369,
     "end_time": "2023-07-13T07:21:35.368279",
     "exception": false,
     "start_time": "2023-07-13T07:21:35.105910",
     "status": "completed"
    },
    "tags": []
   },
   "outputs": [],
   "source": [
    "from statsmodels.tsa.arima.model import ARIMA"
   ]
  },
  {
   "cell_type": "code",
   "execution_count": 14,
   "id": "faee6a39",
   "metadata": {
    "execution": {
     "iopub.execute_input": "2023-07-13T07:21:35.395289Z",
     "iopub.status.busy": "2023-07-13T07:21:35.394492Z",
     "iopub.status.idle": "2023-07-13T07:21:36.119089Z",
     "shell.execute_reply": "2023-07-13T07:21:36.117981Z"
    },
    "papermill": {
     "duration": 0.74062,
     "end_time": "2023-07-13T07:21:36.121650",
     "exception": false,
     "start_time": "2023-07-13T07:21:35.381030",
     "status": "completed"
    },
    "tags": []
   },
   "outputs": [
    {
     "data": {
      "image/png": "[encoded data removed]",
      "text/plain": [
       "<Figure size 640x480 with 1 Axes>"
      ]
     },
     "metadata": {},
     "output_type": "display_data"
    }
   ],
   "source": [
    "model = ARIMA(davg_df.USAvgTemp, order=(1,0,1))  \n",
    "results = model.fit()  \n",
    "plt.plot(davg_df.USAvgTemp)\n",
    "plt.plot(results.fittedvalues, color='red')\n",
    "plt.title('Fitting data MSE: %.2f'% (((results.fittedvalues-davg_df.USAvgTemp)**2).mean()))\n",
    "plt.show()"
   ]
  },
  {
   "cell_type": "code",
   "execution_count": 15,
   "id": "8dfe405f",
   "metadata": {
    "execution": {
     "iopub.execute_input": "2023-07-13T07:21:36.149130Z",
     "iopub.status.busy": "2023-07-13T07:21:36.148199Z",
     "iopub.status.idle": "2023-07-13T07:21:36.156609Z",
     "shell.execute_reply": "2023-07-13T07:21:36.155432Z"
    },
    "papermill": {
     "duration": 0.025453,
     "end_time": "2023-07-13T07:21:36.159370",
     "exception": false,
     "start_time": "2023-07-13T07:21:36.133917",
     "status": "completed"
    },
    "tags": []
   },
   "outputs": [],
   "source": [
    "#test future predictions\n",
    "#predictions = results.predict('10/01/2012', '10/01/2025')\n",
    "\n",
    "#test historical data predictions\n",
    "predictions = results.predict(start = '10/01/2012',end = '10/01/2017')"
   ]
  },
  {
   "cell_type": "code",
   "execution_count": 16,
   "id": "0fb98627",
   "metadata": {
    "execution": {
     "iopub.execute_input": "2023-07-13T07:21:36.186922Z",
     "iopub.status.busy": "2023-07-13T07:21:36.186131Z",
     "iopub.status.idle": "2023-07-13T07:21:36.195599Z",
     "shell.execute_reply": "2023-07-13T07:21:36.194473Z"
    },
    "papermill": {
     "duration": 0.025814,
     "end_time": "2023-07-13T07:21:36.197957",
     "exception": false,
     "start_time": "2023-07-13T07:21:36.172143",
     "status": "completed"
    },
    "tags": []
   },
   "outputs": [
    {
     "data": {
      "text/plain": [
       "DATE\n",
       "2012-10-01    58.891462\n",
       "2012-10-02    59.879645\n",
       "2012-10-03    66.698242\n",
       "2012-10-04    67.450208\n",
       "2012-10-05    67.609255\n",
       "                ...    \n",
       "2017-09-27    71.212041\n",
       "2017-09-28    71.226874\n",
       "2017-09-29    68.373070\n",
       "2017-09-30    65.672350\n",
       "2017-10-01    64.813678\n",
       "Freq: D, Name: predicted_mean, Length: 1827, dtype: float64"
      ]
     },
     "execution_count": 16,
     "metadata": {},
     "output_type": "execute_result"
    }
   ],
   "source": [
    "predictions"
   ]
  },
  {
   "cell_type": "code",
   "execution_count": 17,
   "id": "a88b8909",
   "metadata": {
    "execution": {
     "iopub.execute_input": "2023-07-13T07:21:36.225438Z",
     "iopub.status.busy": "2023-07-13T07:21:36.224644Z",
     "iopub.status.idle": "2023-07-13T07:21:36.233197Z",
     "shell.execute_reply": "2023-07-13T07:21:36.232316Z"
    },
    "papermill": {
     "duration": 0.025143,
     "end_time": "2023-07-13T07:21:36.235808",
     "exception": false,
     "start_time": "2023-07-13T07:21:36.210665",
     "status": "completed"
    },
    "tags": []
   },
   "outputs": [],
   "source": [
    "actuals = davg_df['10/01/2012':'10/01/2017']['USAvgTemp'][0:1887]"
   ]
  },
  {
   "cell_type": "code",
   "execution_count": 18,
   "id": "4dd5ea63",
   "metadata": {
    "execution": {
     "iopub.execute_input": "2023-07-13T07:21:36.264187Z",
     "iopub.status.busy": "2023-07-13T07:21:36.263739Z",
     "iopub.status.idle": "2023-07-13T07:21:36.508521Z",
     "shell.execute_reply": "2023-07-13T07:21:36.507095Z"
    },
    "papermill": {
     "duration": 0.262712,
     "end_time": "2023-07-13T07:21:36.511222",
     "exception": false,
     "start_time": "2023-07-13T07:21:36.248510",
     "status": "completed"
    },
    "tags": []
   },
   "outputs": [
    {
     "name": "stdout",
     "output_type": "stream",
     "text": [
      "MAE:1.4652538279826386\n"
     ]
    }
   ],
   "source": [
    "#Mean Absolute error\n",
    "from sklearn.metrics import mean_absolute_error\n",
    "mae = mean_absolute_error(actuals[0:1887],predictions)\n",
    "print(f'MAE:{mae}')"
   ]
  },
  {
   "cell_type": "code",
   "execution_count": 19,
   "id": "17731c9d",
   "metadata": {
    "execution": {
     "iopub.execute_input": "2023-07-13T07:21:36.540322Z",
     "iopub.status.busy": "2023-07-13T07:21:36.539191Z",
     "iopub.status.idle": "2023-07-13T07:21:36.548008Z",
     "shell.execute_reply": "2023-07-13T07:21:36.547029Z"
    },
    "papermill": {
     "duration": 0.026352,
     "end_time": "2023-07-13T07:21:36.550310",
     "exception": false,
     "start_time": "2023-07-13T07:21:36.523958",
     "status": "completed"
    },
    "tags": []
   },
   "outputs": [
    {
     "data": {
      "text/plain": [
       "USAvgTemp    False\n",
       "Points       False\n",
       "dtype: bool"
      ]
     },
     "execution_count": 19,
     "metadata": {},
     "output_type": "execute_result"
    }
   ],
   "source": [
    "davg_df.isnull().any(axis=0)"
   ]
  }
 ],
 "metadata": {
  "kernelspec": {
   "display_name": "Python 3",
   "language": "python",
   "name": "python3"
  },
  "language_info": {
   "codemirror_mode": {
    "name": "ipython",
    "version": 3
   },
   "file_extension": ".py",
   "mimetype": "text/x-python",
   "name": "python",
   "nbconvert_exporter": "python",
   "pygments_lexer": "ipython3",
   "version": "3.10.10"
  },
  "papermill": {
   "default_parameters": {},
   "duration": 19.236646,
   "end_time": "2023-07-13T07:21:37.586527",
   "environment_variables": {},
   "exception": null,
   "input_path": "__notebook__.ipynb",
   "output_path": "__notebook__.ipynb",
   "parameters": {},
   "start_time": "2023-07-13T07:21:18.349881",
   "version": "2.4.0"
  }
 },
 "nbformat": 4,
 "nbformat_minor": 5
}
